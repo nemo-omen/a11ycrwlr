{
 "cells": [
  {
   "cell_type": "code",
   "execution_count": 1,
   "id": "1edc66cb-182e-4c9c-a4e1-0ce49395a848",
   "metadata": {},
   "outputs": [],
   "source": [
    "import json\n",
    "import os\n",
    "from pathlib import Path\n",
    "import pandas as pd\n",
    "import seaborn as sns\n",
    "import matplotlib.pyplot as plt\n",
    "import plotly.express as px\n",
    "from plotly.subplots import make_subplots\n",
    "import plotly.graph_objects as go"
   ]
  },
  {
   "cell_type": "code",
   "execution_count": 2,
   "id": "7c7fa716-c0b8-4bfb-a7c0-8d78d7708598",
   "metadata": {},
   "outputs": [],
   "source": [
    "root_dir = Path.cwd().parent\n",
    "data_dir = os.path.join(root_dir, \"playwright/axeResults\")"
   ]
  },
  {
   "cell_type": "code",
   "execution_count": 3,
   "id": "5577fe91-5bbf-4dbb-afcd-4a5bdf5137b5",
   "metadata": {},
   "outputs": [],
   "source": [
    "with open(os.path.join(data_dir, '00-summary.json'), 'r') as summary_file:\n",
    "    # print(summary_file.read())\n",
    "    text = summary_file.read()\n",
    "    summary = json.loads(text)"
   ]
  },
  {
   "cell_type": "code",
   "execution_count": 4,
   "id": "df507220-4f24-4db3-bc2a-2043143bbf56",
   "metadata": {},
   "outputs": [
    {
     "data": {
      "text/plain": [
       "[{'Title': 'iGrad',\n",
       "  'Total Violations': 2,\n",
       "  'Minor': 1,\n",
       "  'Moderate': 0,\n",
       "  'Serious': 1,\n",
       "  'Critical': 0},\n",
       " {'Title': 'Academic Suspension Appeal',\n",
       "  'Total Violations': 3,\n",
       "  'Minor': 0,\n",
       "  'Moderate': 3,\n",
       "  'Serious': 0,\n",
       "  'Critical': 0},\n",
       " {'Title': 'RamPort-Academics',\n",
       "  'Total Violations': 9,\n",
       "  'Minor': 1,\n",
       "  'Moderate': 4,\n",
       "  'Serious': 2,\n",
       "  'Critical': 2},\n",
       " {'Title': 'SSB - Aid Year',\n",
       "  'Total Violations': 3,\n",
       "  'Minor': 0,\n",
       "  'Moderate': 3,\n",
       "  'Serious': 0,\n",
       "  'Critical': 0},\n",
       " {'Title': 'Transcript Request | Parchment',\n",
       "  'Total Violations': 6,\n",
       "  'Minor': 1,\n",
       "  'Moderate': 3,\n",
       "  'Serious': 2,\n",
       "  'Critical': 0},\n",
       " {'Title': 'RamPort - Campus Life',\n",
       "  'Total Violations': 10,\n",
       "  'Minor': 1,\n",
       "  'Moderate': 4,\n",
       "  'Serious': 3,\n",
       "  'Critical': 2},\n",
       " {'Title': 'Catalog Term',\n",
       "  'Total Violations': 4,\n",
       "  'Minor': 0,\n",
       "  'Moderate': 3,\n",
       "  'Serious': 0,\n",
       "  'Critical': 1},\n",
       " {'Title': 'Current Applications and Surveys',\n",
       "  'Total Violations': 3,\n",
       "  'Minor': 0,\n",
       "  'Moderate': 3,\n",
       "  'Serious': 0,\n",
       "  'Critical': 0},\n",
       " {'Title': 'Dashboard',\n",
       "  'Total Violations': 5,\n",
       "  'Minor': 1,\n",
       "  'Moderate': 4,\n",
       "  'Serious': 0,\n",
       "  'Critical': 0},\n",
       " {'Title': 'Emergency Loan Application',\n",
       "  'Total Violations': 3,\n",
       "  'Minor': 0,\n",
       "  'Moderate': 3,\n",
       "  'Serious': 0,\n",
       "  'Critical': 0},\n",
       " {'Title': 'Enrollment Verification Request',\n",
       "  'Total Violations': 2,\n",
       "  'Minor': 1,\n",
       "  'Moderate': 1,\n",
       "  'Serious': 0,\n",
       "  'Critical': 0},\n",
       " {'Title': 'RamPort - Financial Aid & Billing',\n",
       "  'Total Violations': 10,\n",
       "  'Minor': 1,\n",
       "  'Moderate': 4,\n",
       "  'Serious': 3,\n",
       "  'Critical': 2},\n",
       " {'Title': 'Home | Navigate',\n",
       "  'Total Violations': 7,\n",
       "  'Minor': 2,\n",
       "  'Moderate': 3,\n",
       "  'Serious': 2,\n",
       "  'Critical': 0},\n",
       " {'Title': 'RamPort - Home',\n",
       "  'Total Violations': 9,\n",
       "  'Minor': 1,\n",
       "  'Moderate': 4,\n",
       "  'Serious': 2,\n",
       "  'Critical': 2},\n",
       " {'Title': 'Knowledge Home',\n",
       "  'Total Violations': 4,\n",
       "  'Minor': 1,\n",
       "  'Moderate': 0,\n",
       "  'Serious': 1,\n",
       "  'Critical': 2},\n",
       " {'Title': 'Loans',\n",
       "  'Total Violations': 8,\n",
       "  'Minor': 2,\n",
       "  'Moderate': 6,\n",
       "  'Serious': 0,\n",
       "  'Critical': 0},\n",
       " {'Title': 'Login - Enter Password',\n",
       "  'Total Violations': 3,\n",
       "  'Minor': 2,\n",
       "  'Moderate': 1,\n",
       "  'Serious': 0,\n",
       "  'Critical': 0},\n",
       " {'Title': 'Login - Enter Username',\n",
       "  'Total Violations': 3,\n",
       "  'Minor': 2,\n",
       "  'Moderate': 1,\n",
       "  'Serious': 0,\n",
       "  'Critical': 0},\n",
       " {'Title': 'Parking Services',\n",
       "  'Total Violations': 5,\n",
       "  'Minor': 0,\n",
       "  'Moderate': 2,\n",
       "  'Serious': 1,\n",
       "  'Critical': 2},\n",
       " {'Title': 'MyAccount',\n",
       "  'Total Violations': 4,\n",
       "  'Minor': 0,\n",
       "  'Moderate': 2,\n",
       "  'Serious': 2,\n",
       "  'Critical': 0},\n",
       " {'Title': 'Password Reset',\n",
       "  'Total Violations': 4,\n",
       "  'Minor': 0,\n",
       "  'Moderate': 3,\n",
       "  'Serious': 1,\n",
       "  'Critical': 0},\n",
       " {'Title': 'Public Knowledge - MyPassword Service',\n",
       "  'Total Violations': 2,\n",
       "  'Minor': 0,\n",
       "  'Moderate': 0,\n",
       "  'Serious': 1,\n",
       "  'Critical': 1},\n",
       " {'Title': 'RamPort - RamPort',\n",
       "  'Total Violations': 9,\n",
       "  'Minor': 1,\n",
       "  'Moderate': 4,\n",
       "  'Serious': 2,\n",
       "  'Critical': 2},\n",
       " {'Title': 'Registration Term',\n",
       "  'Total Violations': 4,\n",
       "  'Minor': 0,\n",
       "  'Moderate': 3,\n",
       "  'Serious': 0,\n",
       "  'Critical': 1},\n",
       " {'Title': 'Select a Tax Year',\n",
       "  'Total Violations': 4,\n",
       "  'Minor': 0,\n",
       "  'Moderate': 3,\n",
       "  'Serious': 0,\n",
       "  'Critical': 1},\n",
       " {'Title': 'Select Term',\n",
       "  'Total Violations': 4,\n",
       "  'Minor': 0,\n",
       "  'Moderate': 3,\n",
       "  'Serious': 0,\n",
       "  'Critical': 1},\n",
       " {'Title': 'Sign in to your account',\n",
       "  'Total Violations': 3,\n",
       "  'Minor': 2,\n",
       "  'Moderate': 1,\n",
       "  'Serious': 0,\n",
       "  'Critical': 0},\n",
       " {'Title': 'Transact | Overview',\n",
       "  'Total Violations': 1,\n",
       "  'Minor': 1,\n",
       "  'Moderate': 0,\n",
       "  'Serious': 0,\n",
       "  'Critical': 0},\n",
       " {'Title': 'View Addresses and Phones',\n",
       "  'Total Violations': 3,\n",
       "  'Minor': 0,\n",
       "  'Moderate': 3,\n",
       "  'Serious': 0,\n",
       "  'Critical': 0},\n",
       " {'Title': 'Week at a Glance',\n",
       "  'Total Violations': 4,\n",
       "  'Minor': 1,\n",
       "  'Moderate': 3,\n",
       "  'Serious': 0,\n",
       "  'Critical': 0}]"
      ]
     },
     "execution_count": 4,
     "metadata": {},
     "output_type": "execute_result"
    }
   ],
   "source": [
    "summary_compiled = []\n",
    "for listing in summary:\n",
    "    # summary_compiled['Title'].append(listing['title'])\n",
    "    compiled = {\n",
    "        'Title': listing['title'],\n",
    "        'Total Violations': listing['violationCount'],\n",
    "        'Minor': 0, \n",
    "        'Moderate': 0,\n",
    "        'Serious': 0,\n",
    "        'Critical': 0,\n",
    "    }\n",
    "    for violation in listing['violations']:\n",
    "        if violation['impact'] == 'minor':\n",
    "            # compiled['Violations'].append('Minor')\n",
    "            # compiled['y'][0] += 1\n",
    "            compiled['Minor'] += 1\n",
    "        if violation['impact'] == 'moderate':\n",
    "            # compiled['Violations'].append('Moderate')\n",
    "            # compiled['y'][1] += 1\n",
    "            compiled['Moderate'] += 1\n",
    "        if violation['impact'] == 'serious':\n",
    "            # compiled['Violations'].append('Serious')\n",
    "            # compiled['y'][2] += 1\n",
    "            compiled['Serious'] += 1\n",
    "        if violation['impact'] == 'critical':\n",
    "            # compiled['Violations'].append('Critical')\n",
    "            # compiled['y'][3] += 1\n",
    "            compiled['Critical'] += 1\n",
    "    summary_compiled.append(compiled)\n",
    "summary_compiled"
   ]
  },
  {
   "cell_type": "code",
   "execution_count": 5,
   "id": "8440b7a6-b2e8-440c-8090-25fe328e70f5",
   "metadata": {},
   "outputs": [
    {
     "data": {
      "text/html": [
       "<div>\n",
       "<style scoped>\n",
       "    .dataframe tbody tr th:only-of-type {\n",
       "        vertical-align: middle;\n",
       "    }\n",
       "\n",
       "    .dataframe tbody tr th {\n",
       "        vertical-align: top;\n",
       "    }\n",
       "\n",
       "    .dataframe thead th {\n",
       "        text-align: right;\n",
       "    }\n",
       "</style>\n",
       "<table border=\"1\" class=\"dataframe\">\n",
       "  <thead>\n",
       "    <tr style=\"text-align: right;\">\n",
       "      <th></th>\n",
       "      <th>Title</th>\n",
       "      <th>Total Violations</th>\n",
       "      <th>Minor</th>\n",
       "      <th>Moderate</th>\n",
       "      <th>Serious</th>\n",
       "      <th>Critical</th>\n",
       "    </tr>\n",
       "  </thead>\n",
       "  <tbody>\n",
       "    <tr>\n",
       "      <th>0</th>\n",
       "      <td>iGrad</td>\n",
       "      <td>2</td>\n",
       "      <td>1</td>\n",
       "      <td>0</td>\n",
       "      <td>1</td>\n",
       "      <td>0</td>\n",
       "    </tr>\n",
       "    <tr>\n",
       "      <th>1</th>\n",
       "      <td>Academic Suspension Appeal</td>\n",
       "      <td>3</td>\n",
       "      <td>0</td>\n",
       "      <td>3</td>\n",
       "      <td>0</td>\n",
       "      <td>0</td>\n",
       "    </tr>\n",
       "    <tr>\n",
       "      <th>2</th>\n",
       "      <td>RamPort-Academics</td>\n",
       "      <td>9</td>\n",
       "      <td>1</td>\n",
       "      <td>4</td>\n",
       "      <td>2</td>\n",
       "      <td>2</td>\n",
       "    </tr>\n",
       "    <tr>\n",
       "      <th>3</th>\n",
       "      <td>SSB - Aid Year</td>\n",
       "      <td>3</td>\n",
       "      <td>0</td>\n",
       "      <td>3</td>\n",
       "      <td>0</td>\n",
       "      <td>0</td>\n",
       "    </tr>\n",
       "    <tr>\n",
       "      <th>4</th>\n",
       "      <td>Transcript Request | Parchment</td>\n",
       "      <td>6</td>\n",
       "      <td>1</td>\n",
       "      <td>3</td>\n",
       "      <td>2</td>\n",
       "      <td>0</td>\n",
       "    </tr>\n",
       "    <tr>\n",
       "      <th>5</th>\n",
       "      <td>RamPort - Campus Life</td>\n",
       "      <td>10</td>\n",
       "      <td>1</td>\n",
       "      <td>4</td>\n",
       "      <td>3</td>\n",
       "      <td>2</td>\n",
       "    </tr>\n",
       "    <tr>\n",
       "      <th>6</th>\n",
       "      <td>Catalog Term</td>\n",
       "      <td>4</td>\n",
       "      <td>0</td>\n",
       "      <td>3</td>\n",
       "      <td>0</td>\n",
       "      <td>1</td>\n",
       "    </tr>\n",
       "    <tr>\n",
       "      <th>7</th>\n",
       "      <td>Current Applications and Surveys</td>\n",
       "      <td>3</td>\n",
       "      <td>0</td>\n",
       "      <td>3</td>\n",
       "      <td>0</td>\n",
       "      <td>0</td>\n",
       "    </tr>\n",
       "    <tr>\n",
       "      <th>8</th>\n",
       "      <td>Dashboard</td>\n",
       "      <td>5</td>\n",
       "      <td>1</td>\n",
       "      <td>4</td>\n",
       "      <td>0</td>\n",
       "      <td>0</td>\n",
       "    </tr>\n",
       "    <tr>\n",
       "      <th>9</th>\n",
       "      <td>Emergency Loan Application</td>\n",
       "      <td>3</td>\n",
       "      <td>0</td>\n",
       "      <td>3</td>\n",
       "      <td>0</td>\n",
       "      <td>0</td>\n",
       "    </tr>\n",
       "    <tr>\n",
       "      <th>10</th>\n",
       "      <td>Enrollment Verification Request</td>\n",
       "      <td>2</td>\n",
       "      <td>1</td>\n",
       "      <td>1</td>\n",
       "      <td>0</td>\n",
       "      <td>0</td>\n",
       "    </tr>\n",
       "    <tr>\n",
       "      <th>11</th>\n",
       "      <td>RamPort - Financial Aid &amp; Billing</td>\n",
       "      <td>10</td>\n",
       "      <td>1</td>\n",
       "      <td>4</td>\n",
       "      <td>3</td>\n",
       "      <td>2</td>\n",
       "    </tr>\n",
       "    <tr>\n",
       "      <th>12</th>\n",
       "      <td>Home | Navigate</td>\n",
       "      <td>7</td>\n",
       "      <td>2</td>\n",
       "      <td>3</td>\n",
       "      <td>2</td>\n",
       "      <td>0</td>\n",
       "    </tr>\n",
       "    <tr>\n",
       "      <th>13</th>\n",
       "      <td>RamPort - Home</td>\n",
       "      <td>9</td>\n",
       "      <td>1</td>\n",
       "      <td>4</td>\n",
       "      <td>2</td>\n",
       "      <td>2</td>\n",
       "    </tr>\n",
       "    <tr>\n",
       "      <th>14</th>\n",
       "      <td>Knowledge Home</td>\n",
       "      <td>4</td>\n",
       "      <td>1</td>\n",
       "      <td>0</td>\n",
       "      <td>1</td>\n",
       "      <td>2</td>\n",
       "    </tr>\n",
       "    <tr>\n",
       "      <th>15</th>\n",
       "      <td>Loans</td>\n",
       "      <td>8</td>\n",
       "      <td>2</td>\n",
       "      <td>6</td>\n",
       "      <td>0</td>\n",
       "      <td>0</td>\n",
       "    </tr>\n",
       "    <tr>\n",
       "      <th>16</th>\n",
       "      <td>Login - Enter Password</td>\n",
       "      <td>3</td>\n",
       "      <td>2</td>\n",
       "      <td>1</td>\n",
       "      <td>0</td>\n",
       "      <td>0</td>\n",
       "    </tr>\n",
       "    <tr>\n",
       "      <th>17</th>\n",
       "      <td>Login - Enter Username</td>\n",
       "      <td>3</td>\n",
       "      <td>2</td>\n",
       "      <td>1</td>\n",
       "      <td>0</td>\n",
       "      <td>0</td>\n",
       "    </tr>\n",
       "    <tr>\n",
       "      <th>18</th>\n",
       "      <td>Parking Services</td>\n",
       "      <td>5</td>\n",
       "      <td>0</td>\n",
       "      <td>2</td>\n",
       "      <td>1</td>\n",
       "      <td>2</td>\n",
       "    </tr>\n",
       "    <tr>\n",
       "      <th>19</th>\n",
       "      <td>MyAccount</td>\n",
       "      <td>4</td>\n",
       "      <td>0</td>\n",
       "      <td>2</td>\n",
       "      <td>2</td>\n",
       "      <td>0</td>\n",
       "    </tr>\n",
       "    <tr>\n",
       "      <th>20</th>\n",
       "      <td>Password Reset</td>\n",
       "      <td>4</td>\n",
       "      <td>0</td>\n",
       "      <td>3</td>\n",
       "      <td>1</td>\n",
       "      <td>0</td>\n",
       "    </tr>\n",
       "    <tr>\n",
       "      <th>21</th>\n",
       "      <td>Public Knowledge - MyPassword Service</td>\n",
       "      <td>2</td>\n",
       "      <td>0</td>\n",
       "      <td>0</td>\n",
       "      <td>1</td>\n",
       "      <td>1</td>\n",
       "    </tr>\n",
       "    <tr>\n",
       "      <th>22</th>\n",
       "      <td>RamPort - RamPort</td>\n",
       "      <td>9</td>\n",
       "      <td>1</td>\n",
       "      <td>4</td>\n",
       "      <td>2</td>\n",
       "      <td>2</td>\n",
       "    </tr>\n",
       "    <tr>\n",
       "      <th>23</th>\n",
       "      <td>Registration Term</td>\n",
       "      <td>4</td>\n",
       "      <td>0</td>\n",
       "      <td>3</td>\n",
       "      <td>0</td>\n",
       "      <td>1</td>\n",
       "    </tr>\n",
       "    <tr>\n",
       "      <th>24</th>\n",
       "      <td>Select a Tax Year</td>\n",
       "      <td>4</td>\n",
       "      <td>0</td>\n",
       "      <td>3</td>\n",
       "      <td>0</td>\n",
       "      <td>1</td>\n",
       "    </tr>\n",
       "    <tr>\n",
       "      <th>25</th>\n",
       "      <td>Select Term</td>\n",
       "      <td>4</td>\n",
       "      <td>0</td>\n",
       "      <td>3</td>\n",
       "      <td>0</td>\n",
       "      <td>1</td>\n",
       "    </tr>\n",
       "    <tr>\n",
       "      <th>26</th>\n",
       "      <td>Sign in to your account</td>\n",
       "      <td>3</td>\n",
       "      <td>2</td>\n",
       "      <td>1</td>\n",
       "      <td>0</td>\n",
       "      <td>0</td>\n",
       "    </tr>\n",
       "    <tr>\n",
       "      <th>27</th>\n",
       "      <td>Transact | Overview</td>\n",
       "      <td>1</td>\n",
       "      <td>1</td>\n",
       "      <td>0</td>\n",
       "      <td>0</td>\n",
       "      <td>0</td>\n",
       "    </tr>\n",
       "    <tr>\n",
       "      <th>28</th>\n",
       "      <td>View Addresses and Phones</td>\n",
       "      <td>3</td>\n",
       "      <td>0</td>\n",
       "      <td>3</td>\n",
       "      <td>0</td>\n",
       "      <td>0</td>\n",
       "    </tr>\n",
       "    <tr>\n",
       "      <th>29</th>\n",
       "      <td>Week at a Glance</td>\n",
       "      <td>4</td>\n",
       "      <td>1</td>\n",
       "      <td>3</td>\n",
       "      <td>0</td>\n",
       "      <td>0</td>\n",
       "    </tr>\n",
       "  </tbody>\n",
       "</table>\n",
       "</div>"
      ],
      "text/plain": [
       "                                    Title  Total Violations  Minor  Moderate  \\\n",
       "0                                   iGrad                 2      1         0   \n",
       "1              Academic Suspension Appeal                 3      0         3   \n",
       "2                       RamPort-Academics                 9      1         4   \n",
       "3                          SSB - Aid Year                 3      0         3   \n",
       "4          Transcript Request | Parchment                 6      1         3   \n",
       "5                   RamPort - Campus Life                10      1         4   \n",
       "6                            Catalog Term                 4      0         3   \n",
       "7        Current Applications and Surveys                 3      0         3   \n",
       "8                               Dashboard                 5      1         4   \n",
       "9              Emergency Loan Application                 3      0         3   \n",
       "10        Enrollment Verification Request                 2      1         1   \n",
       "11      RamPort - Financial Aid & Billing                10      1         4   \n",
       "12                        Home | Navigate                 7      2         3   \n",
       "13                         RamPort - Home                 9      1         4   \n",
       "14                         Knowledge Home                 4      1         0   \n",
       "15                                  Loans                 8      2         6   \n",
       "16                 Login - Enter Password                 3      2         1   \n",
       "17                 Login - Enter Username                 3      2         1   \n",
       "18                       Parking Services                 5      0         2   \n",
       "19                              MyAccount                 4      0         2   \n",
       "20                         Password Reset                 4      0         3   \n",
       "21  Public Knowledge - MyPassword Service                 2      0         0   \n",
       "22                      RamPort - RamPort                 9      1         4   \n",
       "23                      Registration Term                 4      0         3   \n",
       "24                      Select a Tax Year                 4      0         3   \n",
       "25                            Select Term                 4      0         3   \n",
       "26                Sign in to your account                 3      2         1   \n",
       "27                    Transact | Overview                 1      1         0   \n",
       "28              View Addresses and Phones                 3      0         3   \n",
       "29                       Week at a Glance                 4      1         3   \n",
       "\n",
       "    Serious  Critical  \n",
       "0         1         0  \n",
       "1         0         0  \n",
       "2         2         2  \n",
       "3         0         0  \n",
       "4         2         0  \n",
       "5         3         2  \n",
       "6         0         1  \n",
       "7         0         0  \n",
       "8         0         0  \n",
       "9         0         0  \n",
       "10        0         0  \n",
       "11        3         2  \n",
       "12        2         0  \n",
       "13        2         2  \n",
       "14        1         2  \n",
       "15        0         0  \n",
       "16        0         0  \n",
       "17        0         0  \n",
       "18        1         2  \n",
       "19        2         0  \n",
       "20        1         0  \n",
       "21        1         1  \n",
       "22        2         2  \n",
       "23        0         1  \n",
       "24        0         1  \n",
       "25        0         1  \n",
       "26        0         0  \n",
       "27        0         0  \n",
       "28        0         0  \n",
       "29        0         0  "
      ]
     },
     "execution_count": 5,
     "metadata": {},
     "output_type": "execute_result"
    }
   ],
   "source": [
    "df = pd.DataFrame(summary_compiled)\n",
    "df"
   ]
  },
  {
   "cell_type": "code",
   "execution_count": 29,
   "id": "acabe9dc-ad18-4ab6-8168-cd565a07ce64",
   "metadata": {},
   "outputs": [
    {
     "data": {
      "application/vnd.plotly.v1+json": {
       "config": {
        "plotlyServerURL": "https://plot.ly"
       },
       "data": [
        {
         "marker": {
          "color": [
           1,
           0,
           1,
           0
          ],
          "coloraxis": "coloraxis"
         },
         "type": "bar",
         "x": [
          "Minor",
          "Moderate",
          "Serious",
          "Critical"
         ],
         "xaxis": "x",
         "y": [
          1,
          0,
          1,
          0
         ],
         "yaxis": "y"
        },
        {
         "marker": {
          "color": [
           0,
           3,
           0,
           0
          ],
          "coloraxis": "coloraxis"
         },
         "type": "bar",
         "x": [
          "Minor",
          "Moderate",
          "Serious",
          "Critical"
         ],
         "xaxis": "x2",
         "y": [
          0,
          3,
          0,
          0
         ],
         "yaxis": "y2"
        },
        {
         "marker": {
          "color": [
           1,
           4,
           2,
           2
          ],
          "coloraxis": "coloraxis"
         },
         "type": "bar",
         "x": [
          "Minor",
          "Moderate",
          "Serious",
          "Critical"
         ],
         "xaxis": "x3",
         "y": [
          1,
          4,
          2,
          2
         ],
         "yaxis": "y3"
        },
        {
         "marker": {
          "color": [
           0,
           3,
           0,
           0
          ],
          "coloraxis": "coloraxis"
         },
         "type": "bar",
         "x": [
          "Minor",
          "Moderate",
          "Serious",
          "Critical"
         ],
         "xaxis": "x4",
         "y": [
          0,
          3,
          0,
          0
         ],
         "yaxis": "y4"
        },
        {
         "marker": {
          "color": [
           1,
           3,
           2,
           0
          ],
          "coloraxis": "coloraxis"
         },
         "type": "bar",
         "x": [
          "Minor",
          "Moderate",
          "Serious",
          "Critical"
         ],
         "xaxis": "x5",
         "y": [
          1,
          3,
          2,
          0
         ],
         "yaxis": "y5"
        },
        {
         "marker": {
          "color": [
           1,
           4,
           3,
           2
          ],
          "coloraxis": "coloraxis"
         },
         "type": "bar",
         "x": [
          "Minor",
          "Moderate",
          "Serious",
          "Critical"
         ],
         "xaxis": "x6",
         "y": [
          1,
          4,
          3,
          2
         ],
         "yaxis": "y6"
        },
        {
         "marker": {
          "color": [
           0,
           3,
           0,
           1
          ],
          "coloraxis": "coloraxis"
         },
         "type": "bar",
         "x": [
          "Minor",
          "Moderate",
          "Serious",
          "Critical"
         ],
         "xaxis": "x7",
         "y": [
          0,
          3,
          0,
          1
         ],
         "yaxis": "y7"
        },
        {
         "marker": {
          "color": [
           0,
           3,
           0,
           0
          ],
          "coloraxis": "coloraxis"
         },
         "type": "bar",
         "x": [
          "Minor",
          "Moderate",
          "Serious",
          "Critical"
         ],
         "xaxis": "x8",
         "y": [
          0,
          3,
          0,
          0
         ],
         "yaxis": "y8"
        },
        {
         "marker": {
          "color": [
           1,
           4,
           0,
           0
          ],
          "coloraxis": "coloraxis"
         },
         "type": "bar",
         "x": [
          "Minor",
          "Moderate",
          "Serious",
          "Critical"
         ],
         "xaxis": "x9",
         "y": [
          1,
          4,
          0,
          0
         ],
         "yaxis": "y9"
        },
        {
         "marker": {
          "color": [
           0,
           3,
           0,
           0
          ],
          "coloraxis": "coloraxis"
         },
         "type": "bar",
         "x": [
          "Minor",
          "Moderate",
          "Serious",
          "Critical"
         ],
         "xaxis": "x10",
         "y": [
          0,
          3,
          0,
          0
         ],
         "yaxis": "y10"
        },
        {
         "marker": {
          "color": [
           1,
           1,
           0,
           0
          ],
          "coloraxis": "coloraxis"
         },
         "type": "bar",
         "x": [
          "Minor",
          "Moderate",
          "Serious",
          "Critical"
         ],
         "xaxis": "x11",
         "y": [
          1,
          1,
          0,
          0
         ],
         "yaxis": "y11"
        },
        {
         "marker": {
          "color": [
           1,
           4,
           3,
           2
          ],
          "coloraxis": "coloraxis"
         },
         "type": "bar",
         "x": [
          "Minor",
          "Moderate",
          "Serious",
          "Critical"
         ],
         "xaxis": "x12",
         "y": [
          1,
          4,
          3,
          2
         ],
         "yaxis": "y12"
        },
        {
         "marker": {
          "color": [
           2,
           3,
           2,
           0
          ],
          "coloraxis": "coloraxis"
         },
         "type": "bar",
         "x": [
          "Minor",
          "Moderate",
          "Serious",
          "Critical"
         ],
         "xaxis": "x13",
         "y": [
          2,
          3,
          2,
          0
         ],
         "yaxis": "y13"
        },
        {
         "marker": {
          "color": [
           1,
           4,
           2,
           2
          ],
          "coloraxis": "coloraxis"
         },
         "type": "bar",
         "x": [
          "Minor",
          "Moderate",
          "Serious",
          "Critical"
         ],
         "xaxis": "x14",
         "y": [
          1,
          4,
          2,
          2
         ],
         "yaxis": "y14"
        },
        {
         "marker": {
          "color": [
           1,
           0,
           1,
           2
          ],
          "coloraxis": "coloraxis"
         },
         "type": "bar",
         "x": [
          "Minor",
          "Moderate",
          "Serious",
          "Critical"
         ],
         "xaxis": "x15",
         "y": [
          1,
          0,
          1,
          2
         ],
         "yaxis": "y15"
        },
        {
         "marker": {
          "color": [
           2,
           6,
           0,
           0
          ],
          "coloraxis": "coloraxis"
         },
         "type": "bar",
         "x": [
          "Minor",
          "Moderate",
          "Serious",
          "Critical"
         ],
         "xaxis": "x16",
         "y": [
          2,
          6,
          0,
          0
         ],
         "yaxis": "y16"
        },
        {
         "marker": {
          "color": [
           2,
           1,
           0,
           0
          ],
          "coloraxis": "coloraxis"
         },
         "type": "bar",
         "x": [
          "Minor",
          "Moderate",
          "Serious",
          "Critical"
         ],
         "xaxis": "x17",
         "y": [
          2,
          1,
          0,
          0
         ],
         "yaxis": "y17"
        },
        {
         "marker": {
          "color": [
           2,
           1,
           0,
           0
          ],
          "coloraxis": "coloraxis"
         },
         "type": "bar",
         "x": [
          "Minor",
          "Moderate",
          "Serious",
          "Critical"
         ],
         "xaxis": "x18",
         "y": [
          2,
          1,
          0,
          0
         ],
         "yaxis": "y18"
        },
        {
         "marker": {
          "color": [
           0,
           2,
           1,
           2
          ],
          "coloraxis": "coloraxis"
         },
         "type": "bar",
         "x": [
          "Minor",
          "Moderate",
          "Serious",
          "Critical"
         ],
         "xaxis": "x19",
         "y": [
          0,
          2,
          1,
          2
         ],
         "yaxis": "y19"
        },
        {
         "marker": {
          "color": [
           0,
           2,
           2,
           0
          ],
          "coloraxis": "coloraxis"
         },
         "type": "bar",
         "x": [
          "Minor",
          "Moderate",
          "Serious",
          "Critical"
         ],
         "xaxis": "x20",
         "y": [
          0,
          2,
          2,
          0
         ],
         "yaxis": "y20"
        },
        {
         "marker": {
          "color": [
           0,
           3,
           1,
           0
          ],
          "coloraxis": "coloraxis"
         },
         "type": "bar",
         "x": [
          "Minor",
          "Moderate",
          "Serious",
          "Critical"
         ],
         "xaxis": "x21",
         "y": [
          0,
          3,
          1,
          0
         ],
         "yaxis": "y21"
        },
        {
         "marker": {
          "color": [
           0,
           0,
           1,
           1
          ],
          "coloraxis": "coloraxis"
         },
         "type": "bar",
         "x": [
          "Minor",
          "Moderate",
          "Serious",
          "Critical"
         ],
         "xaxis": "x22",
         "y": [
          0,
          0,
          1,
          1
         ],
         "yaxis": "y22"
        },
        {
         "marker": {
          "color": [
           1,
           4,
           2,
           2
          ],
          "coloraxis": "coloraxis"
         },
         "type": "bar",
         "x": [
          "Minor",
          "Moderate",
          "Serious",
          "Critical"
         ],
         "xaxis": "x23",
         "y": [
          1,
          4,
          2,
          2
         ],
         "yaxis": "y23"
        },
        {
         "marker": {
          "color": [
           0,
           3,
           0,
           1
          ],
          "coloraxis": "coloraxis"
         },
         "type": "bar",
         "x": [
          "Minor",
          "Moderate",
          "Serious",
          "Critical"
         ],
         "xaxis": "x24",
         "y": [
          0,
          3,
          0,
          1
         ],
         "yaxis": "y24"
        },
        {
         "marker": {
          "color": [
           0,
           3,
           0,
           1
          ],
          "coloraxis": "coloraxis"
         },
         "type": "bar",
         "x": [
          "Minor",
          "Moderate",
          "Serious",
          "Critical"
         ],
         "xaxis": "x25",
         "y": [
          0,
          3,
          0,
          1
         ],
         "yaxis": "y25"
        },
        {
         "marker": {
          "color": [
           0,
           3,
           0,
           1
          ],
          "coloraxis": "coloraxis"
         },
         "type": "bar",
         "x": [
          "Minor",
          "Moderate",
          "Serious",
          "Critical"
         ],
         "xaxis": "x26",
         "y": [
          0,
          3,
          0,
          1
         ],
         "yaxis": "y26"
        },
        {
         "marker": {
          "color": [
           2,
           1,
           0,
           0
          ],
          "coloraxis": "coloraxis"
         },
         "type": "bar",
         "x": [
          "Minor",
          "Moderate",
          "Serious",
          "Critical"
         ],
         "xaxis": "x27",
         "y": [
          2,
          1,
          0,
          0
         ],
         "yaxis": "y27"
        },
        {
         "marker": {
          "color": [
           1,
           0,
           0,
           0
          ],
          "coloraxis": "coloraxis"
         },
         "type": "bar",
         "x": [
          "Minor",
          "Moderate",
          "Serious",
          "Critical"
         ],
         "xaxis": "x28",
         "y": [
          1,
          0,
          0,
          0
         ],
         "yaxis": "y28"
        },
        {
         "marker": {
          "color": [
           0,
           3,
           0,
           0
          ],
          "coloraxis": "coloraxis"
         },
         "type": "bar",
         "x": [
          "Minor",
          "Moderate",
          "Serious",
          "Critical"
         ],
         "xaxis": "x29",
         "y": [
          0,
          3,
          0,
          0
         ],
         "yaxis": "y29"
        },
        {
         "marker": {
          "color": [
           1,
           3,
           0,
           0
          ],
          "coloraxis": "coloraxis"
         },
         "type": "bar",
         "x": [
          "Minor",
          "Moderate",
          "Serious",
          "Critical"
         ],
         "xaxis": "x30",
         "y": [
          1,
          3,
          0,
          0
         ],
         "yaxis": "y30"
        }
       ],
       "layout": {
        "annotations": [
         {
          "font": {
           "size": 16
          },
          "showarrow": false,
          "text": "iGrad",
          "x": 0.08399999999999999,
          "xanchor": "center",
          "xref": "paper",
          "y": 0.9999999999999999,
          "yanchor": "bottom",
          "yref": "paper"
         },
         {
          "font": {
           "size": 16
          },
          "showarrow": false,
          "text": "Academic Suspension Appeal",
          "x": 0.292,
          "xanchor": "center",
          "xref": "paper",
          "y": 0.9999999999999999,
          "yanchor": "bottom",
          "yref": "paper"
         },
         {
          "font": {
           "size": 16
          },
          "showarrow": false,
          "text": "RamPort-Academics",
          "x": 0.5,
          "xanchor": "center",
          "xref": "paper",
          "y": 0.9999999999999999,
          "yanchor": "bottom",
          "yref": "paper"
         },
         {
          "font": {
           "size": 16
          },
          "showarrow": false,
          "text": "SSB - Aid Year",
          "x": 0.708,
          "xanchor": "center",
          "xref": "paper",
          "y": 0.9999999999999999,
          "yanchor": "bottom",
          "yref": "paper"
         },
         {
          "font": {
           "size": 16
          },
          "showarrow": false,
          "text": "Transcript Request | Parchment",
          "x": 0.9159999999999999,
          "xanchor": "center",
          "xref": "paper",
          "y": 0.9999999999999999,
          "yanchor": "bottom",
          "yref": "paper"
         },
         {
          "font": {
           "size": 16
          },
          "showarrow": false,
          "text": "RamPort - Campus Life",
          "x": 0.08399999999999999,
          "xanchor": "center",
          "xref": "paper",
          "y": 0.8194444444444444,
          "yanchor": "bottom",
          "yref": "paper"
         },
         {
          "font": {
           "size": 16
          },
          "showarrow": false,
          "text": "Catalog Term",
          "x": 0.292,
          "xanchor": "center",
          "xref": "paper",
          "y": 0.8194444444444444,
          "yanchor": "bottom",
          "yref": "paper"
         },
         {
          "font": {
           "size": 16
          },
          "showarrow": false,
          "text": "Current Applications and Surveys",
          "x": 0.5,
          "xanchor": "center",
          "xref": "paper",
          "y": 0.8194444444444444,
          "yanchor": "bottom",
          "yref": "paper"
         },
         {
          "font": {
           "size": 16
          },
          "showarrow": false,
          "text": "Dashboard",
          "x": 0.708,
          "xanchor": "center",
          "xref": "paper",
          "y": 0.8194444444444444,
          "yanchor": "bottom",
          "yref": "paper"
         },
         {
          "font": {
           "size": 16
          },
          "showarrow": false,
          "text": "Emergency Loan Application",
          "x": 0.9159999999999999,
          "xanchor": "center",
          "xref": "paper",
          "y": 0.8194444444444444,
          "yanchor": "bottom",
          "yref": "paper"
         },
         {
          "font": {
           "size": 16
          },
          "showarrow": false,
          "text": "Enrollment Verification Request",
          "x": 0.08399999999999999,
          "xanchor": "center",
          "xref": "paper",
          "y": 0.638888888888889,
          "yanchor": "bottom",
          "yref": "paper"
         },
         {
          "font": {
           "size": 16
          },
          "showarrow": false,
          "text": "RamPort - Financial Aid & Billing",
          "x": 0.292,
          "xanchor": "center",
          "xref": "paper",
          "y": 0.638888888888889,
          "yanchor": "bottom",
          "yref": "paper"
         },
         {
          "font": {
           "size": 16
          },
          "showarrow": false,
          "text": "Home | Navigate",
          "x": 0.5,
          "xanchor": "center",
          "xref": "paper",
          "y": 0.638888888888889,
          "yanchor": "bottom",
          "yref": "paper"
         },
         {
          "font": {
           "size": 16
          },
          "showarrow": false,
          "text": "RamPort - Home",
          "x": 0.708,
          "xanchor": "center",
          "xref": "paper",
          "y": 0.638888888888889,
          "yanchor": "bottom",
          "yref": "paper"
         },
         {
          "font": {
           "size": 16
          },
          "showarrow": false,
          "text": "Knowledge Home",
          "x": 0.9159999999999999,
          "xanchor": "center",
          "xref": "paper",
          "y": 0.638888888888889,
          "yanchor": "bottom",
          "yref": "paper"
         },
         {
          "font": {
           "size": 16
          },
          "showarrow": false,
          "text": "Loans",
          "x": 0.08399999999999999,
          "xanchor": "center",
          "xref": "paper",
          "y": 0.4583333333333333,
          "yanchor": "bottom",
          "yref": "paper"
         },
         {
          "font": {
           "size": 16
          },
          "showarrow": false,
          "text": "Login - Enter Password",
          "x": 0.292,
          "xanchor": "center",
          "xref": "paper",
          "y": 0.4583333333333333,
          "yanchor": "bottom",
          "yref": "paper"
         },
         {
          "font": {
           "size": 16
          },
          "showarrow": false,
          "text": "Login - Enter Username",
          "x": 0.5,
          "xanchor": "center",
          "xref": "paper",
          "y": 0.4583333333333333,
          "yanchor": "bottom",
          "yref": "paper"
         },
         {
          "font": {
           "size": 16
          },
          "showarrow": false,
          "text": "Parking Services",
          "x": 0.708,
          "xanchor": "center",
          "xref": "paper",
          "y": 0.4583333333333333,
          "yanchor": "bottom",
          "yref": "paper"
         },
         {
          "font": {
           "size": 16
          },
          "showarrow": false,
          "text": "MyAccount",
          "x": 0.9159999999999999,
          "xanchor": "center",
          "xref": "paper",
          "y": 0.4583333333333333,
          "yanchor": "bottom",
          "yref": "paper"
         },
         {
          "font": {
           "size": 16
          },
          "showarrow": false,
          "text": "Password Reset",
          "x": 0.08399999999999999,
          "xanchor": "center",
          "xref": "paper",
          "y": 0.2777777777777778,
          "yanchor": "bottom",
          "yref": "paper"
         },
         {
          "font": {
           "size": 16
          },
          "showarrow": false,
          "text": "Public Knowledge - MyPassword Service",
          "x": 0.292,
          "xanchor": "center",
          "xref": "paper",
          "y": 0.2777777777777778,
          "yanchor": "bottom",
          "yref": "paper"
         },
         {
          "font": {
           "size": 16
          },
          "showarrow": false,
          "text": "RamPort - RamPort",
          "x": 0.5,
          "xanchor": "center",
          "xref": "paper",
          "y": 0.2777777777777778,
          "yanchor": "bottom",
          "yref": "paper"
         },
         {
          "font": {
           "size": 16
          },
          "showarrow": false,
          "text": "Registration Term",
          "x": 0.708,
          "xanchor": "center",
          "xref": "paper",
          "y": 0.2777777777777778,
          "yanchor": "bottom",
          "yref": "paper"
         },
         {
          "font": {
           "size": 16
          },
          "showarrow": false,
          "text": "Select a Tax Year",
          "x": 0.9159999999999999,
          "xanchor": "center",
          "xref": "paper",
          "y": 0.2777777777777778,
          "yanchor": "bottom",
          "yref": "paper"
         },
         {
          "font": {
           "size": 16
          },
          "showarrow": false,
          "text": "Select Term",
          "x": 0.08399999999999999,
          "xanchor": "center",
          "xref": "paper",
          "y": 0.09722222222222222,
          "yanchor": "bottom",
          "yref": "paper"
         },
         {
          "font": {
           "size": 16
          },
          "showarrow": false,
          "text": "Sign in to your account",
          "x": 0.292,
          "xanchor": "center",
          "xref": "paper",
          "y": 0.09722222222222222,
          "yanchor": "bottom",
          "yref": "paper"
         },
         {
          "font": {
           "size": 16
          },
          "showarrow": false,
          "text": "Transact | Overview",
          "x": 0.5,
          "xanchor": "center",
          "xref": "paper",
          "y": 0.09722222222222222,
          "yanchor": "bottom",
          "yref": "paper"
         },
         {
          "font": {
           "size": 16
          },
          "showarrow": false,
          "text": "View Addresses and Phones",
          "x": 0.708,
          "xanchor": "center",
          "xref": "paper",
          "y": 0.09722222222222222,
          "yanchor": "bottom",
          "yref": "paper"
         },
         {
          "font": {
           "size": 16
          },
          "showarrow": false,
          "text": "Week at a Glance",
          "x": 0.9159999999999999,
          "xanchor": "center",
          "xref": "paper",
          "y": 0.09722222222222222,
          "yanchor": "bottom",
          "yref": "paper"
         }
        ],
        "coloraxis": {
         "colorscale": [
          [
           0,
           "rgb(247,251,255)"
          ],
          [
           0.125,
           "rgb(222,235,247)"
          ],
          [
           0.25,
           "rgb(198,219,239)"
          ],
          [
           0.375,
           "rgb(158,202,225)"
          ],
          [
           0.5,
           "rgb(107,174,214)"
          ],
          [
           0.625,
           "rgb(66,146,198)"
          ],
          [
           0.75,
           "rgb(33,113,181)"
          ],
          [
           0.875,
           "rgb(8,81,156)"
          ],
          [
           1,
           "rgb(8,48,107)"
          ]
         ]
        },
        "height": 1400,
        "plot_bgcolor": "#f4f4f4",
        "showlegend": false,
        "template": {
         "data": {
          "bar": [
           {
            "error_x": {
             "color": "#2a3f5f"
            },
            "error_y": {
             "color": "#2a3f5f"
            },
            "marker": {
             "line": {
              "color": "#E5ECF6",
              "width": 0.5
             },
             "pattern": {
              "fillmode": "overlay",
              "size": 10,
              "solidity": 0.2
             }
            },
            "type": "bar"
           }
          ],
          "barpolar": [
           {
            "marker": {
             "line": {
              "color": "#E5ECF6",
              "width": 0.5
             },
             "pattern": {
              "fillmode": "overlay",
              "size": 10,
              "solidity": 0.2
             }
            },
            "type": "barpolar"
           }
          ],
          "carpet": [
           {
            "aaxis": {
             "endlinecolor": "#2a3f5f",
             "gridcolor": "white",
             "linecolor": "white",
             "minorgridcolor": "white",
             "startlinecolor": "#2a3f5f"
            },
            "baxis": {
             "endlinecolor": "#2a3f5f",
             "gridcolor": "white",
             "linecolor": "white",
             "minorgridcolor": "white",
             "startlinecolor": "#2a3f5f"
            },
            "type": "carpet"
           }
          ],
          "choropleth": [
           {
            "colorbar": {
             "outlinewidth": 0,
             "ticks": ""
            },
            "type": "choropleth"
           }
          ],
          "contour": [
           {
            "colorbar": {
             "outlinewidth": 0,
             "ticks": ""
            },
            "colorscale": [
             [
              0,
              "#0d0887"
             ],
             [
              0.1111111111111111,
              "#46039f"
             ],
             [
              0.2222222222222222,
              "#7201a8"
             ],
             [
              0.3333333333333333,
              "#9c179e"
             ],
             [
              0.4444444444444444,
              "#bd3786"
             ],
             [
              0.5555555555555556,
              "#d8576b"
             ],
             [
              0.6666666666666666,
              "#ed7953"
             ],
             [
              0.7777777777777778,
              "#fb9f3a"
             ],
             [
              0.8888888888888888,
              "#fdca26"
             ],
             [
              1,
              "#f0f921"
             ]
            ],
            "type": "contour"
           }
          ],
          "contourcarpet": [
           {
            "colorbar": {
             "outlinewidth": 0,
             "ticks": ""
            },
            "type": "contourcarpet"
           }
          ],
          "heatmap": [
           {
            "colorbar": {
             "outlinewidth": 0,
             "ticks": ""
            },
            "colorscale": [
             [
              0,
              "#0d0887"
             ],
             [
              0.1111111111111111,
              "#46039f"
             ],
             [
              0.2222222222222222,
              "#7201a8"
             ],
             [
              0.3333333333333333,
              "#9c179e"
             ],
             [
              0.4444444444444444,
              "#bd3786"
             ],
             [
              0.5555555555555556,
              "#d8576b"
             ],
             [
              0.6666666666666666,
              "#ed7953"
             ],
             [
              0.7777777777777778,
              "#fb9f3a"
             ],
             [
              0.8888888888888888,
              "#fdca26"
             ],
             [
              1,
              "#f0f921"
             ]
            ],
            "type": "heatmap"
           }
          ],
          "heatmapgl": [
           {
            "colorbar": {
             "outlinewidth": 0,
             "ticks": ""
            },
            "colorscale": [
             [
              0,
              "#0d0887"
             ],
             [
              0.1111111111111111,
              "#46039f"
             ],
             [
              0.2222222222222222,
              "#7201a8"
             ],
             [
              0.3333333333333333,
              "#9c179e"
             ],
             [
              0.4444444444444444,
              "#bd3786"
             ],
             [
              0.5555555555555556,
              "#d8576b"
             ],
             [
              0.6666666666666666,
              "#ed7953"
             ],
             [
              0.7777777777777778,
              "#fb9f3a"
             ],
             [
              0.8888888888888888,
              "#fdca26"
             ],
             [
              1,
              "#f0f921"
             ]
            ],
            "type": "heatmapgl"
           }
          ],
          "histogram": [
           {
            "marker": {
             "pattern": {
              "fillmode": "overlay",
              "size": 10,
              "solidity": 0.2
             }
            },
            "type": "histogram"
           }
          ],
          "histogram2d": [
           {
            "colorbar": {
             "outlinewidth": 0,
             "ticks": ""
            },
            "colorscale": [
             [
              0,
              "#0d0887"
             ],
             [
              0.1111111111111111,
              "#46039f"
             ],
             [
              0.2222222222222222,
              "#7201a8"
             ],
             [
              0.3333333333333333,
              "#9c179e"
             ],
             [
              0.4444444444444444,
              "#bd3786"
             ],
             [
              0.5555555555555556,
              "#d8576b"
             ],
             [
              0.6666666666666666,
              "#ed7953"
             ],
             [
              0.7777777777777778,
              "#fb9f3a"
             ],
             [
              0.8888888888888888,
              "#fdca26"
             ],
             [
              1,
              "#f0f921"
             ]
            ],
            "type": "histogram2d"
           }
          ],
          "histogram2dcontour": [
           {
            "colorbar": {
             "outlinewidth": 0,
             "ticks": ""
            },
            "colorscale": [
             [
              0,
              "#0d0887"
             ],
             [
              0.1111111111111111,
              "#46039f"
             ],
             [
              0.2222222222222222,
              "#7201a8"
             ],
             [
              0.3333333333333333,
              "#9c179e"
             ],
             [
              0.4444444444444444,
              "#bd3786"
             ],
             [
              0.5555555555555556,
              "#d8576b"
             ],
             [
              0.6666666666666666,
              "#ed7953"
             ],
             [
              0.7777777777777778,
              "#fb9f3a"
             ],
             [
              0.8888888888888888,
              "#fdca26"
             ],
             [
              1,
              "#f0f921"
             ]
            ],
            "type": "histogram2dcontour"
           }
          ],
          "mesh3d": [
           {
            "colorbar": {
             "outlinewidth": 0,
             "ticks": ""
            },
            "type": "mesh3d"
           }
          ],
          "parcoords": [
           {
            "line": {
             "colorbar": {
              "outlinewidth": 0,
              "ticks": ""
             }
            },
            "type": "parcoords"
           }
          ],
          "pie": [
           {
            "automargin": true,
            "type": "pie"
           }
          ],
          "scatter": [
           {
            "fillpattern": {
             "fillmode": "overlay",
             "size": 10,
             "solidity": 0.2
            },
            "type": "scatter"
           }
          ],
          "scatter3d": [
           {
            "line": {
             "colorbar": {
              "outlinewidth": 0,
              "ticks": ""
             }
            },
            "marker": {
             "colorbar": {
              "outlinewidth": 0,
              "ticks": ""
             }
            },
            "type": "scatter3d"
           }
          ],
          "scattercarpet": [
           {
            "marker": {
             "colorbar": {
              "outlinewidth": 0,
              "ticks": ""
             }
            },
            "type": "scattercarpet"
           }
          ],
          "scattergeo": [
           {
            "marker": {
             "colorbar": {
              "outlinewidth": 0,
              "ticks": ""
             }
            },
            "type": "scattergeo"
           }
          ],
          "scattergl": [
           {
            "marker": {
             "colorbar": {
              "outlinewidth": 0,
              "ticks": ""
             }
            },
            "type": "scattergl"
           }
          ],
          "scattermapbox": [
           {
            "marker": {
             "colorbar": {
              "outlinewidth": 0,
              "ticks": ""
             }
            },
            "type": "scattermapbox"
           }
          ],
          "scatterpolar": [
           {
            "marker": {
             "colorbar": {
              "outlinewidth": 0,
              "ticks": ""
             }
            },
            "type": "scatterpolar"
           }
          ],
          "scatterpolargl": [
           {
            "marker": {
             "colorbar": {
              "outlinewidth": 0,
              "ticks": ""
             }
            },
            "type": "scatterpolargl"
           }
          ],
          "scatterternary": [
           {
            "marker": {
             "colorbar": {
              "outlinewidth": 0,
              "ticks": ""
             }
            },
            "type": "scatterternary"
           }
          ],
          "surface": [
           {
            "colorbar": {
             "outlinewidth": 0,
             "ticks": ""
            },
            "colorscale": [
             [
              0,
              "#0d0887"
             ],
             [
              0.1111111111111111,
              "#46039f"
             ],
             [
              0.2222222222222222,
              "#7201a8"
             ],
             [
              0.3333333333333333,
              "#9c179e"
             ],
             [
              0.4444444444444444,
              "#bd3786"
             ],
             [
              0.5555555555555556,
              "#d8576b"
             ],
             [
              0.6666666666666666,
              "#ed7953"
             ],
             [
              0.7777777777777778,
              "#fb9f3a"
             ],
             [
              0.8888888888888888,
              "#fdca26"
             ],
             [
              1,
              "#f0f921"
             ]
            ],
            "type": "surface"
           }
          ],
          "table": [
           {
            "cells": {
             "fill": {
              "color": "#EBF0F8"
             },
             "line": {
              "color": "white"
             }
            },
            "header": {
             "fill": {
              "color": "#C8D4E3"
             },
             "line": {
              "color": "white"
             }
            },
            "type": "table"
           }
          ]
         },
         "layout": {
          "annotationdefaults": {
           "arrowcolor": "#2a3f5f",
           "arrowhead": 0,
           "arrowwidth": 1
          },
          "autotypenumbers": "strict",
          "coloraxis": {
           "colorbar": {
            "outlinewidth": 0,
            "ticks": ""
           }
          },
          "colorscale": {
           "diverging": [
            [
             0,
             "#8e0152"
            ],
            [
             0.1,
             "#c51b7d"
            ],
            [
             0.2,
             "#de77ae"
            ],
            [
             0.3,
             "#f1b6da"
            ],
            [
             0.4,
             "#fde0ef"
            ],
            [
             0.5,
             "#f7f7f7"
            ],
            [
             0.6,
             "#e6f5d0"
            ],
            [
             0.7,
             "#b8e186"
            ],
            [
             0.8,
             "#7fbc41"
            ],
            [
             0.9,
             "#4d9221"
            ],
            [
             1,
             "#276419"
            ]
           ],
           "sequential": [
            [
             0,
             "#0d0887"
            ],
            [
             0.1111111111111111,
             "#46039f"
            ],
            [
             0.2222222222222222,
             "#7201a8"
            ],
            [
             0.3333333333333333,
             "#9c179e"
            ],
            [
             0.4444444444444444,
             "#bd3786"
            ],
            [
             0.5555555555555556,
             "#d8576b"
            ],
            [
             0.6666666666666666,
             "#ed7953"
            ],
            [
             0.7777777777777778,
             "#fb9f3a"
            ],
            [
             0.8888888888888888,
             "#fdca26"
            ],
            [
             1,
             "#f0f921"
            ]
           ],
           "sequentialminus": [
            [
             0,
             "#0d0887"
            ],
            [
             0.1111111111111111,
             "#46039f"
            ],
            [
             0.2222222222222222,
             "#7201a8"
            ],
            [
             0.3333333333333333,
             "#9c179e"
            ],
            [
             0.4444444444444444,
             "#bd3786"
            ],
            [
             0.5555555555555556,
             "#d8576b"
            ],
            [
             0.6666666666666666,
             "#ed7953"
            ],
            [
             0.7777777777777778,
             "#fb9f3a"
            ],
            [
             0.8888888888888888,
             "#fdca26"
            ],
            [
             1,
             "#f0f921"
            ]
           ]
          },
          "colorway": [
           "#636efa",
           "#EF553B",
           "#00cc96",
           "#ab63fa",
           "#FFA15A",
           "#19d3f3",
           "#FF6692",
           "#B6E880",
           "#FF97FF",
           "#FECB52"
          ],
          "font": {
           "color": "#2a3f5f"
          },
          "geo": {
           "bgcolor": "white",
           "lakecolor": "white",
           "landcolor": "#E5ECF6",
           "showlakes": true,
           "showland": true,
           "subunitcolor": "white"
          },
          "hoverlabel": {
           "align": "left"
          },
          "hovermode": "closest",
          "mapbox": {
           "style": "light"
          },
          "paper_bgcolor": "white",
          "plot_bgcolor": "#E5ECF6",
          "polar": {
           "angularaxis": {
            "gridcolor": "white",
            "linecolor": "white",
            "ticks": ""
           },
           "bgcolor": "#E5ECF6",
           "radialaxis": {
            "gridcolor": "white",
            "linecolor": "white",
            "ticks": ""
           }
          },
          "scene": {
           "xaxis": {
            "backgroundcolor": "#E5ECF6",
            "gridcolor": "white",
            "gridwidth": 2,
            "linecolor": "white",
            "showbackground": true,
            "ticks": "",
            "zerolinecolor": "white"
           },
           "yaxis": {
            "backgroundcolor": "#E5ECF6",
            "gridcolor": "white",
            "gridwidth": 2,
            "linecolor": "white",
            "showbackground": true,
            "ticks": "",
            "zerolinecolor": "white"
           },
           "zaxis": {
            "backgroundcolor": "#E5ECF6",
            "gridcolor": "white",
            "gridwidth": 2,
            "linecolor": "white",
            "showbackground": true,
            "ticks": "",
            "zerolinecolor": "white"
           }
          },
          "shapedefaults": {
           "line": {
            "color": "#2a3f5f"
           }
          },
          "ternary": {
           "aaxis": {
            "gridcolor": "white",
            "linecolor": "white",
            "ticks": ""
           },
           "baxis": {
            "gridcolor": "white",
            "linecolor": "white",
            "ticks": ""
           },
           "bgcolor": "#E5ECF6",
           "caxis": {
            "gridcolor": "white",
            "linecolor": "white",
            "ticks": ""
           }
          },
          "title": {
           "x": 0.05
          },
          "xaxis": {
           "automargin": true,
           "gridcolor": "white",
           "linecolor": "white",
           "ticks": "",
           "title": {
            "standoff": 15
           },
           "zerolinecolor": "white",
           "zerolinewidth": 2
          },
          "yaxis": {
           "automargin": true,
           "gridcolor": "white",
           "linecolor": "white",
           "ticks": "",
           "title": {
            "standoff": 15
           },
           "zerolinecolor": "white",
           "zerolinewidth": 2
          }
         }
        },
        "width": 1400,
        "xaxis": {
         "anchor": "y",
         "autorange": true,
         "domain": [
          0,
          0.16799999999999998
         ],
         "range": [
          -0.5,
          3.5
         ],
         "type": "category"
        },
        "xaxis10": {
         "anchor": "y10",
         "autorange": true,
         "domain": [
          0.832,
          1
         ],
         "range": [
          -0.5,
          3.5
         ],
         "type": "category"
        },
        "xaxis11": {
         "anchor": "y11",
         "autorange": true,
         "domain": [
          0,
          0.16799999999999998
         ],
         "range": [
          -0.5,
          3.5
         ],
         "type": "category"
        },
        "xaxis12": {
         "anchor": "y12",
         "autorange": true,
         "domain": [
          0.208,
          0.376
         ],
         "range": [
          -0.5,
          3.5
         ],
         "type": "category"
        },
        "xaxis13": {
         "anchor": "y13",
         "autorange": true,
         "domain": [
          0.416,
          0.584
         ],
         "range": [
          -0.5,
          3.5
         ],
         "type": "category"
        },
        "xaxis14": {
         "anchor": "y14",
         "autorange": true,
         "domain": [
          0.624,
          0.792
         ],
         "range": [
          -0.5,
          3.5
         ],
         "type": "category"
        },
        "xaxis15": {
         "anchor": "y15",
         "autorange": true,
         "domain": [
          0.832,
          1
         ],
         "range": [
          -0.5,
          3.5
         ],
         "type": "category"
        },
        "xaxis16": {
         "anchor": "y16",
         "autorange": true,
         "domain": [
          0,
          0.16799999999999998
         ],
         "range": [
          -0.5,
          3.5
         ],
         "type": "category"
        },
        "xaxis17": {
         "anchor": "y17",
         "autorange": true,
         "domain": [
          0.208,
          0.376
         ],
         "range": [
          -0.5,
          3.5
         ],
         "type": "category"
        },
        "xaxis18": {
         "anchor": "y18",
         "autorange": true,
         "domain": [
          0.416,
          0.584
         ],
         "range": [
          -0.5,
          3.5
         ],
         "type": "category"
        },
        "xaxis19": {
         "anchor": "y19",
         "autorange": true,
         "domain": [
          0.624,
          0.792
         ],
         "range": [
          -0.5,
          3.5
         ],
         "type": "category"
        },
        "xaxis2": {
         "anchor": "y2",
         "autorange": true,
         "domain": [
          0.208,
          0.376
         ],
         "range": [
          -0.5,
          3.5
         ],
         "type": "category"
        },
        "xaxis20": {
         "anchor": "y20",
         "autorange": true,
         "domain": [
          0.832,
          1
         ],
         "range": [
          -0.5,
          3.5
         ],
         "type": "category"
        },
        "xaxis21": {
         "anchor": "y21",
         "autorange": true,
         "domain": [
          0,
          0.16799999999999998
         ],
         "range": [
          -0.5,
          3.5
         ],
         "type": "category"
        },
        "xaxis22": {
         "anchor": "y22",
         "autorange": true,
         "domain": [
          0.208,
          0.376
         ],
         "range": [
          -0.5,
          3.5
         ],
         "type": "category"
        },
        "xaxis23": {
         "anchor": "y23",
         "autorange": true,
         "domain": [
          0.416,
          0.584
         ],
         "range": [
          -0.5,
          3.5
         ],
         "type": "category"
        },
        "xaxis24": {
         "anchor": "y24",
         "autorange": true,
         "domain": [
          0.624,
          0.792
         ],
         "range": [
          -0.5,
          3.5
         ],
         "type": "category"
        },
        "xaxis25": {
         "anchor": "y25",
         "autorange": true,
         "domain": [
          0.832,
          1
         ],
         "range": [
          -0.5,
          3.5
         ],
         "type": "category"
        },
        "xaxis26": {
         "anchor": "y26",
         "autorange": true,
         "domain": [
          0,
          0.16799999999999998
         ],
         "range": [
          -0.5,
          3.5
         ],
         "type": "category"
        },
        "xaxis27": {
         "anchor": "y27",
         "autorange": true,
         "domain": [
          0.208,
          0.376
         ],
         "range": [
          -0.5,
          3.5
         ],
         "type": "category"
        },
        "xaxis28": {
         "anchor": "y28",
         "autorange": true,
         "domain": [
          0.416,
          0.584
         ],
         "range": [
          -0.5,
          3.5
         ],
         "type": "category"
        },
        "xaxis29": {
         "anchor": "y29",
         "autorange": true,
         "domain": [
          0.624,
          0.792
         ],
         "range": [
          -0.5,
          3.5
         ],
         "type": "category"
        },
        "xaxis3": {
         "anchor": "y3",
         "autorange": true,
         "domain": [
          0.416,
          0.584
         ],
         "range": [
          -0.5,
          3.5
         ],
         "type": "category"
        },
        "xaxis30": {
         "anchor": "y30",
         "autorange": true,
         "domain": [
          0.832,
          1
         ],
         "range": [
          -0.5,
          3.5
         ],
         "type": "category"
        },
        "xaxis4": {
         "anchor": "y4",
         "autorange": true,
         "domain": [
          0.624,
          0.792
         ],
         "range": [
          -0.5,
          3.5
         ],
         "type": "category"
        },
        "xaxis5": {
         "anchor": "y5",
         "autorange": true,
         "domain": [
          0.832,
          1
         ],
         "range": [
          -0.5,
          3.5
         ],
         "type": "category"
        },
        "xaxis6": {
         "anchor": "y6",
         "autorange": true,
         "domain": [
          0,
          0.16799999999999998
         ],
         "range": [
          -0.5,
          3.5
         ],
         "type": "category"
        },
        "xaxis7": {
         "anchor": "y7",
         "autorange": true,
         "domain": [
          0.208,
          0.376
         ],
         "range": [
          -0.5,
          3.5
         ],
         "type": "category"
        },
        "xaxis8": {
         "anchor": "y8",
         "autorange": true,
         "domain": [
          0.416,
          0.584
         ],
         "range": [
          -0.5,
          3.5
         ],
         "type": "category"
        },
        "xaxis9": {
         "anchor": "y9",
         "autorange": true,
         "domain": [
          0.624,
          0.792
         ],
         "range": [
          -0.5,
          3.5
         ],
         "type": "category"
        },
        "yaxis": {
         "anchor": "x",
         "autorange": true,
         "domain": [
          0.9027777777777777,
          0.9999999999999999
         ],
         "range": [
          0,
          4.2105263157894735
         ],
         "type": "linear"
        },
        "yaxis10": {
         "anchor": "x10",
         "autorange": true,
         "domain": [
          0.7222222222222222,
          0.8194444444444444
         ],
         "matches": "y6",
         "range": [
          0,
          4.2105263157894735
         ],
         "showticklabels": false,
         "type": "linear"
        },
        "yaxis11": {
         "anchor": "x11",
         "autorange": true,
         "domain": [
          0.5416666666666667,
          0.638888888888889
         ],
         "range": [
          0,
          4.2105263157894735
         ],
         "type": "linear"
        },
        "yaxis12": {
         "anchor": "x12",
         "autorange": true,
         "domain": [
          0.5416666666666667,
          0.638888888888889
         ],
         "matches": "y11",
         "range": [
          0,
          4.2105263157894735
         ],
         "showticklabels": false,
         "type": "linear"
        },
        "yaxis13": {
         "anchor": "x13",
         "autorange": true,
         "domain": [
          0.5416666666666667,
          0.638888888888889
         ],
         "matches": "y11",
         "range": [
          0,
          4.2105263157894735
         ],
         "showticklabels": false,
         "type": "linear"
        },
        "yaxis14": {
         "anchor": "x14",
         "autorange": true,
         "domain": [
          0.5416666666666667,
          0.638888888888889
         ],
         "matches": "y11",
         "range": [
          0,
          4.2105263157894735
         ],
         "showticklabels": false,
         "type": "linear"
        },
        "yaxis15": {
         "anchor": "x15",
         "autorange": true,
         "domain": [
          0.5416666666666667,
          0.638888888888889
         ],
         "matches": "y11",
         "range": [
          0,
          4.2105263157894735
         ],
         "showticklabels": false,
         "type": "linear"
        },
        "yaxis16": {
         "anchor": "x16",
         "autorange": true,
         "domain": [
          0.3611111111111111,
          0.4583333333333333
         ],
         "range": [
          0,
          6.315789473684211
         ],
         "type": "linear"
        },
        "yaxis17": {
         "anchor": "x17",
         "autorange": true,
         "domain": [
          0.3611111111111111,
          0.4583333333333333
         ],
         "matches": "y16",
         "range": [
          0,
          6.315789473684211
         ],
         "showticklabels": false,
         "type": "linear"
        },
        "yaxis18": {
         "anchor": "x18",
         "autorange": true,
         "domain": [
          0.3611111111111111,
          0.4583333333333333
         ],
         "matches": "y16",
         "range": [
          0,
          6.315789473684211
         ],
         "showticklabels": false,
         "type": "linear"
        },
        "yaxis19": {
         "anchor": "x19",
         "autorange": true,
         "domain": [
          0.3611111111111111,
          0.4583333333333333
         ],
         "matches": "y16",
         "range": [
          0,
          6.315789473684211
         ],
         "showticklabels": false,
         "type": "linear"
        },
        "yaxis2": {
         "anchor": "x2",
         "autorange": true,
         "domain": [
          0.9027777777777777,
          0.9999999999999999
         ],
         "matches": "y",
         "range": [
          0,
          4.2105263157894735
         ],
         "showticklabels": false,
         "type": "linear"
        },
        "yaxis20": {
         "anchor": "x20",
         "autorange": true,
         "domain": [
          0.3611111111111111,
          0.4583333333333333
         ],
         "matches": "y16",
         "range": [
          0,
          6.315789473684211
         ],
         "showticklabels": false,
         "type": "linear"
        },
        "yaxis21": {
         "anchor": "x21",
         "autorange": true,
         "domain": [
          0.18055555555555555,
          0.2777777777777778
         ],
         "range": [
          0,
          4.2105263157894735
         ],
         "type": "linear"
        },
        "yaxis22": {
         "anchor": "x22",
         "autorange": true,
         "domain": [
          0.18055555555555555,
          0.2777777777777778
         ],
         "matches": "y21",
         "range": [
          0,
          4.2105263157894735
         ],
         "showticklabels": false,
         "type": "linear"
        },
        "yaxis23": {
         "anchor": "x23",
         "autorange": true,
         "domain": [
          0.18055555555555555,
          0.2777777777777778
         ],
         "matches": "y21",
         "range": [
          0,
          4.2105263157894735
         ],
         "showticklabels": false,
         "type": "linear"
        },
        "yaxis24": {
         "anchor": "x24",
         "autorange": true,
         "domain": [
          0.18055555555555555,
          0.2777777777777778
         ],
         "matches": "y21",
         "range": [
          0,
          4.2105263157894735
         ],
         "showticklabels": false,
         "type": "linear"
        },
        "yaxis25": {
         "anchor": "x25",
         "autorange": true,
         "domain": [
          0.18055555555555555,
          0.2777777777777778
         ],
         "matches": "y21",
         "range": [
          0,
          4.2105263157894735
         ],
         "showticklabels": false,
         "type": "linear"
        },
        "yaxis26": {
         "anchor": "x26",
         "autorange": true,
         "domain": [
          0,
          0.09722222222222222
         ],
         "range": [
          0,
          3.1578947368421053
         ],
         "type": "linear"
        },
        "yaxis27": {
         "anchor": "x27",
         "autorange": true,
         "domain": [
          0,
          0.09722222222222222
         ],
         "matches": "y26",
         "range": [
          0,
          3.1578947368421053
         ],
         "showticklabels": false,
         "type": "linear"
        },
        "yaxis28": {
         "anchor": "x28",
         "autorange": true,
         "domain": [
          0,
          0.09722222222222222
         ],
         "matches": "y26",
         "range": [
          0,
          3.1578947368421053
         ],
         "showticklabels": false,
         "type": "linear"
        },
        "yaxis29": {
         "anchor": "x29",
         "autorange": true,
         "domain": [
          0,
          0.09722222222222222
         ],
         "matches": "y26",
         "range": [
          0,
          3.1578947368421053
         ],
         "showticklabels": false,
         "type": "linear"
        },
        "yaxis3": {
         "anchor": "x3",
         "autorange": true,
         "domain": [
          0.9027777777777777,
          0.9999999999999999
         ],
         "matches": "y",
         "range": [
          0,
          4.2105263157894735
         ],
         "showticklabels": false,
         "type": "linear"
        },
        "yaxis30": {
         "anchor": "x30",
         "autorange": true,
         "domain": [
          0,
          0.09722222222222222
         ],
         "matches": "y26",
         "range": [
          0,
          3.1578947368421053
         ],
         "showticklabels": false,
         "type": "linear"
        },
        "yaxis4": {
         "anchor": "x4",
         "autorange": true,
         "domain": [
          0.9027777777777777,
          0.9999999999999999
         ],
         "matches": "y",
         "range": [
          0,
          4.2105263157894735
         ],
         "showticklabels": false,
         "type": "linear"
        },
        "yaxis5": {
         "anchor": "x5",
         "autorange": true,
         "domain": [
          0.9027777777777777,
          0.9999999999999999
         ],
         "matches": "y",
         "range": [
          0,
          4.2105263157894735
         ],
         "showticklabels": false,
         "type": "linear"
        },
        "yaxis6": {
         "anchor": "x6",
         "autorange": true,
         "domain": [
          0.7222222222222222,
          0.8194444444444444
         ],
         "range": [
          0,
          4.2105263157894735
         ],
         "type": "linear"
        },
        "yaxis7": {
         "anchor": "x7",
         "autorange": true,
         "domain": [
          0.7222222222222222,
          0.8194444444444444
         ],
         "matches": "y6",
         "range": [
          0,
          4.2105263157894735
         ],
         "showticklabels": false,
         "type": "linear"
        },
        "yaxis8": {
         "anchor": "x8",
         "autorange": true,
         "domain": [
          0.7222222222222222,
          0.8194444444444444
         ],
         "matches": "y6",
         "range": [
          0,
          4.2105263157894735
         ],
         "showticklabels": false,
         "type": "linear"
        },
        "yaxis9": {
         "anchor": "x9",
         "autorange": true,
         "domain": [
          0.7222222222222222,
          0.8194444444444444
         ],
         "matches": "y6",
         "range": [
          0,
          4.2105263157894735
         ],
         "showticklabels": false,
         "type": "linear"
        }
       }
      },
      "image/png": "[encoded data removed]",
      "text/html": [
       "<div>                            <div id=\"3e61cba5-6f2a-46ab-ac27-5a8b959f29ca\" class=\"plotly-graph-div\" style=\"height:1400px; width:1400px;\"></div>            <script type=\"text/javascript\">                require([\"plotly\"], function(Plotly) {                    window.PLOTLYENV=window.PLOTLYENV || {};                                    if (document.getElementById(\"3e61cba5-6f2a-46ab-ac27-5a8b959f29ca\")) {                    Plotly.newPlot(                        \"3e61cba5-6f2a-46ab-ac27-5a8b959f29ca\",                        [{\"marker\":{\"color\":[1,0,1,0],\"coloraxis\":\"coloraxis\"},\"x\":[\"Minor\",\"Moderate\",\"Serious\",\"Critical\"],\"y\":[1,0,1,0],\"type\":\"bar\",\"xaxis\":\"x\",\"yaxis\":\"y\"},{\"marker\":{\"color\":[0,3,0,0],\"coloraxis\":\"coloraxis\"},\"x\":[\"Minor\",\"Moderate\",\"Serious\",\"Critical\"],\"y\":[0,3,0,0],\"type\":\"bar\",\"xaxis\":\"x2\",\"yaxis\":\"y2\"},{\"marker\":{\"color\":[1,4,2,2],\"coloraxis\":\"coloraxis\"},\"x\":[\"Minor\",\"Moderate\",\"Serious\",\"Critical\"],\"y\":[1,4,2,2],\"type\":\"bar\",\"xaxis\":\"x3\",\"yaxis\":\"y3\"},{\"marker\":{\"color\":[0,3,0,0],\"coloraxis\":\"coloraxis\"},\"x\":[\"Minor\",\"Moderate\",\"Serious\",\"Critical\"],\"y\":[0,3,0,0],\"type\":\"bar\",\"xaxis\":\"x4\",\"yaxis\":\"y4\"},{\"marker\":{\"color\":[1,3,2,0],\"coloraxis\":\"coloraxis\"},\"x\":[\"Minor\",\"Moderate\",\"Serious\",\"Critical\"],\"y\":[1,3,2,0],\"type\":\"bar\",\"xaxis\":\"x5\",\"yaxis\":\"y5\"},{\"marker\":{\"color\":[1,4,3,2],\"coloraxis\":\"coloraxis\"},\"x\":[\"Minor\",\"Moderate\",\"Serious\",\"Critical\"],\"y\":[1,4,3,2],\"type\":\"bar\",\"xaxis\":\"x6\",\"yaxis\":\"y6\"},{\"marker\":{\"color\":[0,3,0,1],\"coloraxis\":\"coloraxis\"},\"x\":[\"Minor\",\"Moderate\",\"Serious\",\"Critical\"],\"y\":[0,3,0,1],\"type\":\"bar\",\"xaxis\":\"x7\",\"yaxis\":\"y7\"},{\"marker\":{\"color\":[0,3,0,0],\"coloraxis\":\"coloraxis\"},\"x\":[\"Minor\",\"Moderate\",\"Serious\",\"Critical\"],\"y\":[0,3,0,0],\"type\":\"bar\",\"xaxis\":\"x8\",\"yaxis\":\"y8\"},{\"marker\":{\"color\":[1,4,0,0],\"coloraxis\":\"coloraxis\"},\"x\":[\"Minor\",\"Moderate\",\"Serious\",\"Critical\"],\"y\":[1,4,0,0],\"type\":\"bar\",\"xaxis\":\"x9\",\"yaxis\":\"y9\"},{\"marker\":{\"color\":[0,3,0,0],\"coloraxis\":\"coloraxis\"},\"x\":[\"Minor\",\"Moderate\",\"Serious\",\"Critical\"],\"y\":[0,3,0,0],\"type\":\"bar\",\"xaxis\":\"x10\",\"yaxis\":\"y10\"},{\"marker\":{\"color\":[1,1,0,0],\"coloraxis\":\"coloraxis\"},\"x\":[\"Minor\",\"Moderate\",\"Serious\",\"Critical\"],\"y\":[1,1,0,0],\"type\":\"bar\",\"xaxis\":\"x11\",\"yaxis\":\"y11\"},{\"marker\":{\"color\":[1,4,3,2],\"coloraxis\":\"coloraxis\"},\"x\":[\"Minor\",\"Moderate\",\"Serious\",\"Critical\"],\"y\":[1,4,3,2],\"type\":\"bar\",\"xaxis\":\"x12\",\"yaxis\":\"y12\"},{\"marker\":{\"color\":[2,3,2,0],\"coloraxis\":\"coloraxis\"},\"x\":[\"Minor\",\"Moderate\",\"Serious\",\"Critical\"],\"y\":[2,3,2,0],\"type\":\"bar\",\"xaxis\":\"x13\",\"yaxis\":\"y13\"},{\"marker\":{\"color\":[1,4,2,2],\"coloraxis\":\"coloraxis\"},\"x\":[\"Minor\",\"Moderate\",\"Serious\",\"Critical\"],\"y\":[1,4,2,2],\"type\":\"bar\",\"xaxis\":\"x14\",\"yaxis\":\"y14\"},{\"marker\":{\"color\":[1,0,1,2],\"coloraxis\":\"coloraxis\"},\"x\":[\"Minor\",\"Moderate\",\"Serious\",\"Critical\"],\"y\":[1,0,1,2],\"type\":\"bar\",\"xaxis\":\"x15\",\"yaxis\":\"y15\"},{\"marker\":{\"color\":[2,6,0,0],\"coloraxis\":\"coloraxis\"},\"x\":[\"Minor\",\"Moderate\",\"Serious\",\"Critical\"],\"y\":[2,6,0,0],\"type\":\"bar\",\"xaxis\":\"x16\",\"yaxis\":\"y16\"},{\"marker\":{\"color\":[2,1,0,0],\"coloraxis\":\"coloraxis\"},\"x\":[\"Minor\",\"Moderate\",\"Serious\",\"Critical\"],\"y\":[2,1,0,0],\"type\":\"bar\",\"xaxis\":\"x17\",\"yaxis\":\"y17\"},{\"marker\":{\"color\":[2,1,0,0],\"coloraxis\":\"coloraxis\"},\"x\":[\"Minor\",\"Moderate\",\"Serious\",\"Critical\"],\"y\":[2,1,0,0],\"type\":\"bar\",\"xaxis\":\"x18\",\"yaxis\":\"y18\"},{\"marker\":{\"color\":[0,2,1,2],\"coloraxis\":\"coloraxis\"},\"x\":[\"Minor\",\"Moderate\",\"Serious\",\"Critical\"],\"y\":[0,2,1,2],\"type\":\"bar\",\"xaxis\":\"x19\",\"yaxis\":\"y19\"},{\"marker\":{\"color\":[0,2,2,0],\"coloraxis\":\"coloraxis\"},\"x\":[\"Minor\",\"Moderate\",\"Serious\",\"Critical\"],\"y\":[0,2,2,0],\"type\":\"bar\",\"xaxis\":\"x20\",\"yaxis\":\"y20\"},{\"marker\":{\"color\":[0,3,1,0],\"coloraxis\":\"coloraxis\"},\"x\":[\"Minor\",\"Moderate\",\"Serious\",\"Critical\"],\"y\":[0,3,1,0],\"type\":\"bar\",\"xaxis\":\"x21\",\"yaxis\":\"y21\"},{\"marker\":{\"color\":[0,0,1,1],\"coloraxis\":\"coloraxis\"},\"x\":[\"Minor\",\"Moderate\",\"Serious\",\"Critical\"],\"y\":[0,0,1,1],\"type\":\"bar\",\"xaxis\":\"x22\",\"yaxis\":\"y22\"},{\"marker\":{\"color\":[1,4,2,2],\"coloraxis\":\"coloraxis\"},\"x\":[\"Minor\",\"Moderate\",\"Serious\",\"Critical\"],\"y\":[1,4,2,2],\"type\":\"bar\",\"xaxis\":\"x23\",\"yaxis\":\"y23\"},{\"marker\":{\"color\":[0,3,0,1],\"coloraxis\":\"coloraxis\"},\"x\":[\"Minor\",\"Moderate\",\"Serious\",\"Critical\"],\"y\":[0,3,0,1],\"type\":\"bar\",\"xaxis\":\"x24\",\"yaxis\":\"y24\"},{\"marker\":{\"color\":[0,3,0,1],\"coloraxis\":\"coloraxis\"},\"x\":[\"Minor\",\"Moderate\",\"Serious\",\"Critical\"],\"y\":[0,3,0,1],\"type\":\"bar\",\"xaxis\":\"x25\",\"yaxis\":\"y25\"},{\"marker\":{\"color\":[0,3,0,1],\"coloraxis\":\"coloraxis\"},\"x\":[\"Minor\",\"Moderate\",\"Serious\",\"Critical\"],\"y\":[0,3,0,1],\"type\":\"bar\",\"xaxis\":\"x26\",\"yaxis\":\"y26\"},{\"marker\":{\"color\":[2,1,0,0],\"coloraxis\":\"coloraxis\"},\"x\":[\"Minor\",\"Moderate\",\"Serious\",\"Critical\"],\"y\":[2,1,0,0],\"type\":\"bar\",\"xaxis\":\"x27\",\"yaxis\":\"y27\"},{\"marker\":{\"color\":[1,0,0,0],\"coloraxis\":\"coloraxis\"},\"x\":[\"Minor\",\"Moderate\",\"Serious\",\"Critical\"],\"y\":[1,0,0,0],\"type\":\"bar\",\"xaxis\":\"x28\",\"yaxis\":\"y28\"},{\"marker\":{\"color\":[0,3,0,0],\"coloraxis\":\"coloraxis\"},\"x\":[\"Minor\",\"Moderate\",\"Serious\",\"Critical\"],\"y\":[0,3,0,0],\"type\":\"bar\",\"xaxis\":\"x29\",\"yaxis\":\"y29\"},{\"marker\":{\"color\":[1,3,0,0],\"coloraxis\":\"coloraxis\"},\"x\":[\"Minor\",\"Moderate\",\"Serious\",\"Critical\"],\"y\":[1,3,0,0],\"type\":\"bar\",\"xaxis\":\"x30\",\"yaxis\":\"y30\"}],                        {\"template\":{\"data\":{\"histogram2dcontour\":[{\"type\":\"histogram2dcontour\",\"colorbar\":{\"outlinewidth\":0,\"ticks\":\"\"},\"colorscale\":[[0.0,\"#0d0887\"],[0.1111111111111111,\"#46039f\"],[0.2222222222222222,\"#7201a8\"],[0.3333333333333333,\"#9c179e\"],[0.4444444444444444,\"#bd3786\"],[0.5555555555555556,\"#d8576b\"],[0.6666666666666666,\"#ed7953\"],[0.7777777777777778,\"#fb9f3a\"],[0.8888888888888888,\"#fdca26\"],[1.0,\"#f0f921\"]]}],\"choropleth\":[{\"type\":\"choropleth\",\"colorbar\":{\"outlinewidth\":0,\"ticks\":\"\"}}],\"histogram2d\":[{\"type\":\"histogram2d\",\"colorbar\":{\"outlinewidth\":0,\"ticks\":\"\"},\"colorscale\":[[0.0,\"#0d0887\"],[0.1111111111111111,\"#46039f\"],[0.2222222222222222,\"#7201a8\"],[0.3333333333333333,\"#9c179e\"],[0.4444444444444444,\"#bd3786\"],[0.5555555555555556,\"#d8576b\"],[0.6666666666666666,\"#ed7953\"],[0.7777777777777778,\"#fb9f3a\"],[0.8888888888888888,\"#fdca26\"],[1.0,\"#f0f921\"]]}],\"heatmap\":[{\"type\":\"heatmap\",\"colorbar\":{\"outlinewidth\":0,\"ticks\":\"\"},\"colorscale\":[[0.0,\"#0d0887\"],[0.1111111111111111,\"#46039f\"],[0.2222222222222222,\"#7201a8\"],[0.3333333333333333,\"#9c179e\"],[0.4444444444444444,\"#bd3786\"],[0.5555555555555556,\"#d8576b\"],[0.6666666666666666,\"#ed7953\"],[0.7777777777777778,\"#fb9f3a\"],[0.8888888888888888,\"#fdca26\"],[1.0,\"#f0f921\"]]}],\"heatmapgl\":[{\"type\":\"heatmapgl\",\"colorbar\":{\"outlinewidth\":0,\"ticks\":\"\"},\"colorscale\":[[0.0,\"#0d0887\"],[0.1111111111111111,\"#46039f\"],[0.2222222222222222,\"#7201a8\"],[0.3333333333333333,\"#9c179e\"],[0.4444444444444444,\"#bd3786\"],[0.5555555555555556,\"#d8576b\"],[0.6666666666666666,\"#ed7953\"],[0.7777777777777778,\"#fb9f3a\"],[0.8888888888888888,\"#fdca26\"],[1.0,\"#f0f921\"]]}],\"contourcarpet\":[{\"type\":\"contourcarpet\",\"colorbar\":{\"outlinewidth\":0,\"ticks\":\"\"}}],\"contour\":[{\"type\":\"contour\",\"colorbar\":{\"outlinewidth\":0,\"ticks\":\"\"},\"colorscale\":[[0.0,\"#0d0887\"],[0.1111111111111111,\"#46039f\"],[0.2222222222222222,\"#7201a8\"],[0.3333333333333333,\"#9c179e\"],[0.4444444444444444,\"#bd3786\"],[0.5555555555555556,\"#d8576b\"],[0.6666666666666666,\"#ed7953\"],[0.7777777777777778,\"#fb9f3a\"],[0.8888888888888888,\"#fdca26\"],[1.0,\"#f0f921\"]]}],\"surface\":[{\"type\":\"surface\",\"colorbar\":{\"outlinewidth\":0,\"ticks\":\"\"},\"colorscale\":[[0.0,\"#0d0887\"],[0.1111111111111111,\"#46039f\"],[0.2222222222222222,\"#7201a8\"],[0.3333333333333333,\"#9c179e\"],[0.4444444444444444,\"#bd3786\"],[0.5555555555555556,\"#d8576b\"],[0.6666666666666666,\"#ed7953\"],[0.7777777777777778,\"#fb9f3a\"],[0.8888888888888888,\"#fdca26\"],[1.0,\"#f0f921\"]]}],\"mesh3d\":[{\"type\":\"mesh3d\",\"colorbar\":{\"outlinewidth\":0,\"ticks\":\"\"}}],\"scatter\":[{\"fillpattern\":{\"fillmode\":\"overlay\",\"size\":10,\"solidity\":0.2},\"type\":\"scatter\"}],\"parcoords\":[{\"type\":\"parcoords\",\"line\":{\"colorbar\":{\"outlinewidth\":0,\"ticks\":\"\"}}}],\"scatterpolargl\":[{\"type\":\"scatterpolargl\",\"marker\":{\"colorbar\":{\"outlinewidth\":0,\"ticks\":\"\"}}}],\"bar\":[{\"error_x\":{\"color\":\"#2a3f5f\"},\"error_y\":{\"color\":\"#2a3f5f\"},\"marker\":{\"line\":{\"color\":\"#E5ECF6\",\"width\":0.5},\"pattern\":{\"fillmode\":\"overlay\",\"size\":10,\"solidity\":0.2}},\"type\":\"bar\"}],\"scattergeo\":[{\"type\":\"scattergeo\",\"marker\":{\"colorbar\":{\"outlinewidth\":0,\"ticks\":\"\"}}}],\"scatterpolar\":[{\"type\":\"scatterpolar\",\"marker\":{\"colorbar\":{\"outlinewidth\":0,\"ticks\":\"\"}}}],\"histogram\":[{\"marker\":{\"pattern\":{\"fillmode\":\"overlay\",\"size\":10,\"solidity\":0.2}},\"type\":\"histogram\"}],\"scattergl\":[{\"type\":\"scattergl\",\"marker\":{\"colorbar\":{\"outlinewidth\":0,\"ticks\":\"\"}}}],\"scatter3d\":[{\"type\":\"scatter3d\",\"line\":{\"colorbar\":{\"outlinewidth\":0,\"ticks\":\"\"}},\"marker\":{\"colorbar\":{\"outlinewidth\":0,\"ticks\":\"\"}}}],\"scattermapbox\":[{\"type\":\"scattermapbox\",\"marker\":{\"colorbar\":{\"outlinewidth\":0,\"ticks\":\"\"}}}],\"scatterternary\":[{\"type\":\"scatterternary\",\"marker\":{\"colorbar\":{\"outlinewidth\":0,\"ticks\":\"\"}}}],\"scattercarpet\":[{\"type\":\"scattercarpet\",\"marker\":{\"colorbar\":{\"outlinewidth\":0,\"ticks\":\"\"}}}],\"carpet\":[{\"aaxis\":{\"endlinecolor\":\"#2a3f5f\",\"gridcolor\":\"white\",\"linecolor\":\"white\",\"minorgridcolor\":\"white\",\"startlinecolor\":\"#2a3f5f\"},\"baxis\":{\"endlinecolor\":\"#2a3f5f\",\"gridcolor\":\"white\",\"linecolor\":\"white\",\"minorgridcolor\":\"white\",\"startlinecolor\":\"#2a3f5f\"},\"type\":\"carpet\"}],\"table\":[{\"cells\":{\"fill\":{\"color\":\"#EBF0F8\"},\"line\":{\"color\":\"white\"}},\"header\":{\"fill\":{\"color\":\"#C8D4E3\"},\"line\":{\"color\":\"white\"}},\"type\":\"table\"}],\"barpolar\":[{\"marker\":{\"line\":{\"color\":\"#E5ECF6\",\"width\":0.5},\"pattern\":{\"fillmode\":\"overlay\",\"size\":10,\"solidity\":0.2}},\"type\":\"barpolar\"}],\"pie\":[{\"automargin\":true,\"type\":\"pie\"}]},\"layout\":{\"autotypenumbers\":\"strict\",\"colorway\":[\"#636efa\",\"#EF553B\",\"#00cc96\",\"#ab63fa\",\"#FFA15A\",\"#19d3f3\",\"#FF6692\",\"#B6E880\",\"#FF97FF\",\"#FECB52\"],\"font\":{\"color\":\"#2a3f5f\"},\"hovermode\":\"closest\",\"hoverlabel\":{\"align\":\"left\"},\"paper_bgcolor\":\"white\",\"plot_bgcolor\":\"#E5ECF6\",\"polar\":{\"bgcolor\":\"#E5ECF6\",\"angularaxis\":{\"gridcolor\":\"white\",\"linecolor\":\"white\",\"ticks\":\"\"},\"radialaxis\":{\"gridcolor\":\"white\",\"linecolor\":\"white\",\"ticks\":\"\"}},\"ternary\":{\"bgcolor\":\"#E5ECF6\",\"aaxis\":{\"gridcolor\":\"white\",\"linecolor\":\"white\",\"ticks\":\"\"},\"baxis\":{\"gridcolor\":\"white\",\"linecolor\":\"white\",\"ticks\":\"\"},\"caxis\":{\"gridcolor\":\"white\",\"linecolor\":\"white\",\"ticks\":\"\"}},\"coloraxis\":{\"colorbar\":{\"outlinewidth\":0,\"ticks\":\"\"}},\"colorscale\":{\"sequential\":[[0.0,\"#0d0887\"],[0.1111111111111111,\"#46039f\"],[0.2222222222222222,\"#7201a8\"],[0.3333333333333333,\"#9c179e\"],[0.4444444444444444,\"#bd3786\"],[0.5555555555555556,\"#d8576b\"],[0.6666666666666666,\"#ed7953\"],[0.7777777777777778,\"#fb9f3a\"],[0.8888888888888888,\"#fdca26\"],[1.0,\"#f0f921\"]],\"sequentialminus\":[[0.0,\"#0d0887\"],[0.1111111111111111,\"#46039f\"],[0.2222222222222222,\"#7201a8\"],[0.3333333333333333,\"#9c179e\"],[0.4444444444444444,\"#bd3786\"],[0.5555555555555556,\"#d8576b\"],[0.6666666666666666,\"#ed7953\"],[0.7777777777777778,\"#fb9f3a\"],[0.8888888888888888,\"#fdca26\"],[1.0,\"#f0f921\"]],\"diverging\":[[0,\"#8e0152\"],[0.1,\"#c51b7d\"],[0.2,\"#de77ae\"],[0.3,\"#f1b6da\"],[0.4,\"#fde0ef\"],[0.5,\"#f7f7f7\"],[0.6,\"#e6f5d0\"],[0.7,\"#b8e186\"],[0.8,\"#7fbc41\"],[0.9,\"#4d9221\"],[1,\"#276419\"]]},\"xaxis\":{\"gridcolor\":\"white\",\"linecolor\":\"white\",\"ticks\":\"\",\"title\":{\"standoff\":15},\"zerolinecolor\":\"white\",\"automargin\":true,\"zerolinewidth\":2},\"yaxis\":{\"gridcolor\":\"white\",\"linecolor\":\"white\",\"ticks\":\"\",\"title\":{\"standoff\":15},\"zerolinecolor\":\"white\",\"automargin\":true,\"zerolinewidth\":2},\"scene\":{\"xaxis\":{\"backgroundcolor\":\"#E5ECF6\",\"gridcolor\":\"white\",\"linecolor\":\"white\",\"showbackground\":true,\"ticks\":\"\",\"zerolinecolor\":\"white\",\"gridwidth\":2},\"yaxis\":{\"backgroundcolor\":\"#E5ECF6\",\"gridcolor\":\"white\",\"linecolor\":\"white\",\"showbackground\":true,\"ticks\":\"\",\"zerolinecolor\":\"white\",\"gridwidth\":2},\"zaxis\":{\"backgroundcolor\":\"#E5ECF6\",\"gridcolor\":\"white\",\"linecolor\":\"white\",\"showbackground\":true,\"ticks\":\"\",\"zerolinecolor\":\"white\",\"gridwidth\":2}},\"shapedefaults\":{\"line\":{\"color\":\"#2a3f5f\"}},\"annotationdefaults\":{\"arrowcolor\":\"#2a3f5f\",\"arrowhead\":0,\"arrowwidth\":1},\"geo\":{\"bgcolor\":\"white\",\"landcolor\":\"#E5ECF6\",\"subunitcolor\":\"white\",\"showland\":true,\"showlakes\":true,\"lakecolor\":\"white\"},\"title\":{\"x\":0.05},\"mapbox\":{\"style\":\"light\"}}},\"xaxis\":{\"anchor\":\"y\",\"domain\":[0.0,0.16799999999999998]},\"yaxis\":{\"anchor\":\"x\",\"domain\":[0.9027777777777777,0.9999999999999999]},\"xaxis2\":{\"anchor\":\"y2\",\"domain\":[0.208,0.376]},\"yaxis2\":{\"anchor\":\"x2\",\"domain\":[0.9027777777777777,0.9999999999999999],\"matches\":\"y\",\"showticklabels\":false},\"xaxis3\":{\"anchor\":\"y3\",\"domain\":[0.416,0.584]},\"yaxis3\":{\"anchor\":\"x3\",\"domain\":[0.9027777777777777,0.9999999999999999],\"matches\":\"y\",\"showticklabels\":false},\"xaxis4\":{\"anchor\":\"y4\",\"domain\":[0.624,0.792]},\"yaxis4\":{\"anchor\":\"x4\",\"domain\":[0.9027777777777777,0.9999999999999999],\"matches\":\"y\",\"showticklabels\":false},\"xaxis5\":{\"anchor\":\"y5\",\"domain\":[0.832,1.0]},\"yaxis5\":{\"anchor\":\"x5\",\"domain\":[0.9027777777777777,0.9999999999999999],\"matches\":\"y\",\"showticklabels\":false},\"xaxis6\":{\"anchor\":\"y6\",\"domain\":[0.0,0.16799999999999998]},\"yaxis6\":{\"anchor\":\"x6\",\"domain\":[0.7222222222222222,0.8194444444444444]},\"xaxis7\":{\"anchor\":\"y7\",\"domain\":[0.208,0.376]},\"yaxis7\":{\"anchor\":\"x7\",\"domain\":[0.7222222222222222,0.8194444444444444],\"matches\":\"y6\",\"showticklabels\":false},\"xaxis8\":{\"anchor\":\"y8\",\"domain\":[0.416,0.584]},\"yaxis8\":{\"anchor\":\"x8\",\"domain\":[0.7222222222222222,0.8194444444444444],\"matches\":\"y6\",\"showticklabels\":false},\"xaxis9\":{\"anchor\":\"y9\",\"domain\":[0.624,0.792]},\"yaxis9\":{\"anchor\":\"x9\",\"domain\":[0.7222222222222222,0.8194444444444444],\"matches\":\"y6\",\"showticklabels\":false},\"xaxis10\":{\"anchor\":\"y10\",\"domain\":[0.832,1.0]},\"yaxis10\":{\"anchor\":\"x10\",\"domain\":[0.7222222222222222,0.8194444444444444],\"matches\":\"y6\",\"showticklabels\":false},\"xaxis11\":{\"anchor\":\"y11\",\"domain\":[0.0,0.16799999999999998]},\"yaxis11\":{\"anchor\":\"x11\",\"domain\":[0.5416666666666667,0.638888888888889]},\"xaxis12\":{\"anchor\":\"y12\",\"domain\":[0.208,0.376]},\"yaxis12\":{\"anchor\":\"x12\",\"domain\":[0.5416666666666667,0.638888888888889],\"matches\":\"y11\",\"showticklabels\":false},\"xaxis13\":{\"anchor\":\"y13\",\"domain\":[0.416,0.584]},\"yaxis13\":{\"anchor\":\"x13\",\"domain\":[0.5416666666666667,0.638888888888889],\"matches\":\"y11\",\"showticklabels\":false},\"xaxis14\":{\"anchor\":\"y14\",\"domain\":[0.624,0.792]},\"yaxis14\":{\"anchor\":\"x14\",\"domain\":[0.5416666666666667,0.638888888888889],\"matches\":\"y11\",\"showticklabels\":false},\"xaxis15\":{\"anchor\":\"y15\",\"domain\":[0.832,1.0]},\"yaxis15\":{\"anchor\":\"x15\",\"domain\":[0.5416666666666667,0.638888888888889],\"matches\":\"y11\",\"showticklabels\":false},\"xaxis16\":{\"anchor\":\"y16\",\"domain\":[0.0,0.16799999999999998]},\"yaxis16\":{\"anchor\":\"x16\",\"domain\":[0.3611111111111111,0.4583333333333333]},\"xaxis17\":{\"anchor\":\"y17\",\"domain\":[0.208,0.376]},\"yaxis17\":{\"anchor\":\"x17\",\"domain\":[0.3611111111111111,0.4583333333333333],\"matches\":\"y16\",\"showticklabels\":false},\"xaxis18\":{\"anchor\":\"y18\",\"domain\":[0.416,0.584]},\"yaxis18\":{\"anchor\":\"x18\",\"domain\":[0.3611111111111111,0.4583333333333333],\"matches\":\"y16\",\"showticklabels\":false},\"xaxis19\":{\"anchor\":\"y19\",\"domain\":[0.624,0.792]},\"yaxis19\":{\"anchor\":\"x19\",\"domain\":[0.3611111111111111,0.4583333333333333],\"matches\":\"y16\",\"showticklabels\":false},\"xaxis20\":{\"anchor\":\"y20\",\"domain\":[0.832,1.0]},\"yaxis20\":{\"anchor\":\"x20\",\"domain\":[0.3611111111111111,0.4583333333333333],\"matches\":\"y16\",\"showticklabels\":false},\"xaxis21\":{\"anchor\":\"y21\",\"domain\":[0.0,0.16799999999999998]},\"yaxis21\":{\"anchor\":\"x21\",\"domain\":[0.18055555555555555,0.2777777777777778]},\"xaxis22\":{\"anchor\":\"y22\",\"domain\":[0.208,0.376]},\"yaxis22\":{\"anchor\":\"x22\",\"domain\":[0.18055555555555555,0.2777777777777778],\"matches\":\"y21\",\"showticklabels\":false},\"xaxis23\":{\"anchor\":\"y23\",\"domain\":[0.416,0.584]},\"yaxis23\":{\"anchor\":\"x23\",\"domain\":[0.18055555555555555,0.2777777777777778],\"matches\":\"y21\",\"showticklabels\":false},\"xaxis24\":{\"anchor\":\"y24\",\"domain\":[0.624,0.792]},\"yaxis24\":{\"anchor\":\"x24\",\"domain\":[0.18055555555555555,0.2777777777777778],\"matches\":\"y21\",\"showticklabels\":false},\"xaxis25\":{\"anchor\":\"y25\",\"domain\":[0.832,1.0]},\"yaxis25\":{\"anchor\":\"x25\",\"domain\":[0.18055555555555555,0.2777777777777778],\"matches\":\"y21\",\"showticklabels\":false},\"xaxis26\":{\"anchor\":\"y26\",\"domain\":[0.0,0.16799999999999998]},\"yaxis26\":{\"anchor\":\"x26\",\"domain\":[0.0,0.09722222222222222]},\"xaxis27\":{\"anchor\":\"y27\",\"domain\":[0.208,0.376]},\"yaxis27\":{\"anchor\":\"x27\",\"domain\":[0.0,0.09722222222222222],\"matches\":\"y26\",\"showticklabels\":false},\"xaxis28\":{\"anchor\":\"y28\",\"domain\":[0.416,0.584]},\"yaxis28\":{\"anchor\":\"x28\",\"domain\":[0.0,0.09722222222222222],\"matches\":\"y26\",\"showticklabels\":false},\"xaxis29\":{\"anchor\":\"y29\",\"domain\":[0.624,0.792]},\"yaxis29\":{\"anchor\":\"x29\",\"domain\":[0.0,0.09722222222222222],\"matches\":\"y26\",\"showticklabels\":false},\"xaxis30\":{\"anchor\":\"y30\",\"domain\":[0.832,1.0]},\"yaxis30\":{\"anchor\":\"x30\",\"domain\":[0.0,0.09722222222222222],\"matches\":\"y26\",\"showticklabels\":false},\"annotations\":[{\"font\":{\"size\":16},\"showarrow\":false,\"text\":\"iGrad\",\"x\":0.08399999999999999,\"xanchor\":\"center\",\"xref\":\"paper\",\"y\":0.9999999999999999,\"yanchor\":\"bottom\",\"yref\":\"paper\"},{\"font\":{\"size\":16},\"showarrow\":false,\"text\":\"Academic Suspension Appeal\",\"x\":0.292,\"xanchor\":\"center\",\"xref\":\"paper\",\"y\":0.9999999999999999,\"yanchor\":\"bottom\",\"yref\":\"paper\"},{\"font\":{\"size\":16},\"showarrow\":false,\"text\":\"RamPort-Academics\",\"x\":0.5,\"xanchor\":\"center\",\"xref\":\"paper\",\"y\":0.9999999999999999,\"yanchor\":\"bottom\",\"yref\":\"paper\"},{\"font\":{\"size\":16},\"showarrow\":false,\"text\":\"SSB - Aid Year\",\"x\":0.708,\"xanchor\":\"center\",\"xref\":\"paper\",\"y\":0.9999999999999999,\"yanchor\":\"bottom\",\"yref\":\"paper\"},{\"font\":{\"size\":16},\"showarrow\":false,\"text\":\"Transcript Request | Parchment\",\"x\":0.9159999999999999,\"xanchor\":\"center\",\"xref\":\"paper\",\"y\":0.9999999999999999,\"yanchor\":\"bottom\",\"yref\":\"paper\"},{\"font\":{\"size\":16},\"showarrow\":false,\"text\":\"RamPort - Campus Life\",\"x\":0.08399999999999999,\"xanchor\":\"center\",\"xref\":\"paper\",\"y\":0.8194444444444444,\"yanchor\":\"bottom\",\"yref\":\"paper\"},{\"font\":{\"size\":16},\"showarrow\":false,\"text\":\"Catalog Term\",\"x\":0.292,\"xanchor\":\"center\",\"xref\":\"paper\",\"y\":0.8194444444444444,\"yanchor\":\"bottom\",\"yref\":\"paper\"},{\"font\":{\"size\":16},\"showarrow\":false,\"text\":\"Current Applications and Surveys\",\"x\":0.5,\"xanchor\":\"center\",\"xref\":\"paper\",\"y\":0.8194444444444444,\"yanchor\":\"bottom\",\"yref\":\"paper\"},{\"font\":{\"size\":16},\"showarrow\":false,\"text\":\"Dashboard\",\"x\":0.708,\"xanchor\":\"center\",\"xref\":\"paper\",\"y\":0.8194444444444444,\"yanchor\":\"bottom\",\"yref\":\"paper\"},{\"font\":{\"size\":16},\"showarrow\":false,\"text\":\"Emergency Loan Application\",\"x\":0.9159999999999999,\"xanchor\":\"center\",\"xref\":\"paper\",\"y\":0.8194444444444444,\"yanchor\":\"bottom\",\"yref\":\"paper\"},{\"font\":{\"size\":16},\"showarrow\":false,\"text\":\"Enrollment Verification Request\",\"x\":0.08399999999999999,\"xanchor\":\"center\",\"xref\":\"paper\",\"y\":0.638888888888889,\"yanchor\":\"bottom\",\"yref\":\"paper\"},{\"font\":{\"size\":16},\"showarrow\":false,\"text\":\"RamPort - Financial Aid & Billing\",\"x\":0.292,\"xanchor\":\"center\",\"xref\":\"paper\",\"y\":0.638888888888889,\"yanchor\":\"bottom\",\"yref\":\"paper\"},{\"font\":{\"size\":16},\"showarrow\":false,\"text\":\"Home | Navigate\",\"x\":0.5,\"xanchor\":\"center\",\"xref\":\"paper\",\"y\":0.638888888888889,\"yanchor\":\"bottom\",\"yref\":\"paper\"},{\"font\":{\"size\":16},\"showarrow\":false,\"text\":\"RamPort - Home\",\"x\":0.708,\"xanchor\":\"center\",\"xref\":\"paper\",\"y\":0.638888888888889,\"yanchor\":\"bottom\",\"yref\":\"paper\"},{\"font\":{\"size\":16},\"showarrow\":false,\"text\":\"Knowledge Home\",\"x\":0.9159999999999999,\"xanchor\":\"center\",\"xref\":\"paper\",\"y\":0.638888888888889,\"yanchor\":\"bottom\",\"yref\":\"paper\"},{\"font\":{\"size\":16},\"showarrow\":false,\"text\":\"Loans\",\"x\":0.08399999999999999,\"xanchor\":\"center\",\"xref\":\"paper\",\"y\":0.4583333333333333,\"yanchor\":\"bottom\",\"yref\":\"paper\"},{\"font\":{\"size\":16},\"showarrow\":false,\"text\":\"Login - Enter Password\",\"x\":0.292,\"xanchor\":\"center\",\"xref\":\"paper\",\"y\":0.4583333333333333,\"yanchor\":\"bottom\",\"yref\":\"paper\"},{\"font\":{\"size\":16},\"showarrow\":false,\"text\":\"Login - Enter Username\",\"x\":0.5,\"xanchor\":\"center\",\"xref\":\"paper\",\"y\":0.4583333333333333,\"yanchor\":\"bottom\",\"yref\":\"paper\"},{\"font\":{\"size\":16},\"showarrow\":false,\"text\":\"Parking Services\",\"x\":0.708,\"xanchor\":\"center\",\"xref\":\"paper\",\"y\":0.4583333333333333,\"yanchor\":\"bottom\",\"yref\":\"paper\"},{\"font\":{\"size\":16},\"showarrow\":false,\"text\":\"MyAccount\",\"x\":0.9159999999999999,\"xanchor\":\"center\",\"xref\":\"paper\",\"y\":0.4583333333333333,\"yanchor\":\"bottom\",\"yref\":\"paper\"},{\"font\":{\"size\":16},\"showarrow\":false,\"text\":\"Password Reset\",\"x\":0.08399999999999999,\"xanchor\":\"center\",\"xref\":\"paper\",\"y\":0.2777777777777778,\"yanchor\":\"bottom\",\"yref\":\"paper\"},{\"font\":{\"size\":16},\"showarrow\":false,\"text\":\"Public Knowledge - MyPassword Service\",\"x\":0.292,\"xanchor\":\"center\",\"xref\":\"paper\",\"y\":0.2777777777777778,\"yanchor\":\"bottom\",\"yref\":\"paper\"},{\"font\":{\"size\":16},\"showarrow\":false,\"text\":\"RamPort - RamPort\",\"x\":0.5,\"xanchor\":\"center\",\"xref\":\"paper\",\"y\":0.2777777777777778,\"yanchor\":\"bottom\",\"yref\":\"paper\"},{\"font\":{\"size\":16},\"showarrow\":false,\"text\":\"Registration Term\",\"x\":0.708,\"xanchor\":\"center\",\"xref\":\"paper\",\"y\":0.2777777777777778,\"yanchor\":\"bottom\",\"yref\":\"paper\"},{\"font\":{\"size\":16},\"showarrow\":false,\"text\":\"Select a Tax Year\",\"x\":0.9159999999999999,\"xanchor\":\"center\",\"xref\":\"paper\",\"y\":0.2777777777777778,\"yanchor\":\"bottom\",\"yref\":\"paper\"},{\"font\":{\"size\":16},\"showarrow\":false,\"text\":\"Select Term\",\"x\":0.08399999999999999,\"xanchor\":\"center\",\"xref\":\"paper\",\"y\":0.09722222222222222,\"yanchor\":\"bottom\",\"yref\":\"paper\"},{\"font\":{\"size\":16},\"showarrow\":false,\"text\":\"Sign in to your account\",\"x\":0.292,\"xanchor\":\"center\",\"xref\":\"paper\",\"y\":0.09722222222222222,\"yanchor\":\"bottom\",\"yref\":\"paper\"},{\"font\":{\"size\":16},\"showarrow\":false,\"text\":\"Transact | Overview\",\"x\":0.5,\"xanchor\":\"center\",\"xref\":\"paper\",\"y\":0.09722222222222222,\"yanchor\":\"bottom\",\"yref\":\"paper\"},{\"font\":{\"size\":16},\"showarrow\":false,\"text\":\"View Addresses and Phones\",\"x\":0.708,\"xanchor\":\"center\",\"xref\":\"paper\",\"y\":0.09722222222222222,\"yanchor\":\"bottom\",\"yref\":\"paper\"},{\"font\":{\"size\":16},\"showarrow\":false,\"text\":\"Week at a Glance\",\"x\":0.9159999999999999,\"xanchor\":\"center\",\"xref\":\"paper\",\"y\":0.09722222222222222,\"yanchor\":\"bottom\",\"yref\":\"paper\"}],\"coloraxis\":{\"colorscale\":[[0.0,\"rgb(247,251,255)\"],[0.125,\"rgb(222,235,247)\"],[0.25,\"rgb(198,219,239)\"],[0.375,\"rgb(158,202,225)\"],[0.5,\"rgb(107,174,214)\"],[0.625,\"rgb(66,146,198)\"],[0.75,\"rgb(33,113,181)\"],[0.875,\"rgb(8,81,156)\"],[1.0,\"rgb(8,48,107)\"]]},\"height\":1400,\"width\":1400,\"showlegend\":false,\"plot_bgcolor\":\"#f4f4f4\"},                        {\"responsive\": true}                    ).then(function(){\n",
       "                            \n",
       "var gd = document.getElementById('3e61cba5-6f2a-46ab-ac27-5a8b959f29ca');\n",
       "var x = new MutationObserver(function (mutations, observer) {{\n",
       "        var display = window.getComputedStyle(gd).display;\n",
       "        if (!display || display === 'none') {{\n",
       "            console.log([gd, 'removed!']);\n",
       "            Plotly.purge(gd);\n",
       "            observer.disconnect();\n",
       "        }}\n",
       "}});\n",
       "\n",
       "// Listen for the removal of the full notebook cells\n",
       "var notebookContainer = gd.closest('#notebook-container');\n",
       "if (notebookContainer) {{\n",
       "    x.observe(notebookContainer, {childList: true});\n",
       "}}\n",
       "\n",
       "// Listen for the clearing of the current output cell\n",
       "var outputEl = gd.closest('.output');\n",
       "if (outputEl) {{\n",
       "    x.observe(outputEl, {childList: true});\n",
       "}}\n",
       "\n",
       "                        })                };                });            </script>        </div>"
      ]
     },
     "metadata": {},
     "output_type": "display_data"
    }
   ],
   "source": [
    "titles = []\n",
    "for entry in summary_compiled:\n",
    "    titles.append(entry['Title'])\n",
    "\n",
    "fig = make_subplots(rows=6, cols=5, subplot_titles=titles, shared_yaxes=True)\n",
    "\n",
    "j = 1\n",
    "k = 1\n",
    "for i in range(len(summary_compiled)):\n",
    "    k += 1\n",
    "    if i % 5 == 0:\n",
    "        # j += 1\n",
    "        j = (i // 5) + 1\n",
    "        k = 1\n",
    "\n",
    "    fig.add_trace(go.Bar(\n",
    "        x=[\"Minor\", \"Moderate\", \"Serious\", \"Critical\"],\n",
    "        y=[summary_compiled[i][\"Minor\"], summary_compiled[i][\"Moderate\"], summary_compiled[i][\"Serious\"], summary_compiled[i][\"Critical\"]],\n",
    "        marker=dict(\n",
    "            color=[summary_compiled[i][\"Minor\"], summary_compiled[i][\"Moderate\"], summary_compiled[i][\"Serious\"], summary_compiled[i][\"Critical\"]],\n",
    "            coloraxis=\"coloraxis\"\n",
    "        ),\n",
    "    ), row=j,col=k)\n",
    "fig.update_layout(height=1400, width=1400, coloraxis=dict(colorscale=\"Blues\"), showlegend=False, plot_bgcolor=\"#f4f4f4\")"
   ]
  },
  {
   "cell_type": "code",
   "execution_count": null,
   "id": "1c4b1bc4-2759-4eeb-b284-433e6a8f1ff1",
   "metadata": {},
   "outputs": [],
   "source": []
  }
 ],
 "metadata": {
  "kernelspec": {
   "display_name": "Python 3 (ipykernel)",
   "language": "python",
   "name": "python3"
  },
  "language_info": {
   "codemirror_mode": {
    "name": "ipython",
    "version": 3
   },
   "file_extension": ".py",
   "mimetype": "text/x-python",
   "name": "python",
   "nbconvert_exporter": "python",
   "pygments_lexer": "ipython3",
   "version": "3.11.5"
  }
 },
 "nbformat": 4,
 "nbformat_minor": 5
}
