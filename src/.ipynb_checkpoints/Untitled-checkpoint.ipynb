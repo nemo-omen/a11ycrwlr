{
 "cells": [
  {
   "cell_type": "code",
   "execution_count": null,
   "id": "1edc66cb-182e-4c9c-a4e1-0ce49395a848",
   "metadata": {},
   "outputs": [],
   "source": [
    "import json\n",
    "import os\n",
    "from pathlib import Path\n",
    "import pandas as pd\n",
    "import seaborn as sns\n",
    "import matplotlib.pyplot as plt"
   ]
  },
  {
   "cell_type": "code",
   "execution_count": null,
   "id": "c8513d7c-9969-4d1d-9518-42f189e0892e",
   "metadata": {},
   "outputs": [],
   "source": [
    "sns.set_style('darkgrid')"
   ]
  },
  {
   "cell_type": "code",
   "execution_count": null,
   "id": "7c7fa716-c0b8-4bfb-a7c0-8d78d7708598",
   "metadata": {},
   "outputs": [],
   "source": [
    "root_dir = Path.cwd().parent\n",
    "data_dir = os.path.join(root_dir, \"playwright/axeResults\")"
   ]
  },
  {
   "cell_type": "code",
   "execution_count": null,
   "id": "5577fe91-5bbf-4dbb-afcd-4a5bdf5137b5",
   "metadata": {},
   "outputs": [],
   "source": [
    "with open(os.path.join(data_dir, '00-summary.json'), 'r') as summary_file:\n",
    "    # print(summary_file.read())\n",
    "    text = summary_file.read()\n",
    "    summary = json.loads(text)"
   ]
  },
  {
   "cell_type": "code",
   "execution_count": null,
   "id": "df507220-4f24-4db3-bc2a-2043143bbf56",
   "metadata": {},
   "outputs": [],
   "source": [
    "summary_compiled = []\n",
    "for listing in summary:\n",
    "    compiled = {\n",
    "        'Title': listing['title'],\n",
    "        'Total Violations': listing['violationCount'],\n",
    "        'Impacts': {   \n",
    "            \"Minor\": 0,\n",
    "            \"Moderate\": 0,\n",
    "            \"Serious\": 0,\n",
    "            \"Critical\": 0\n",
    "        }\n",
    "    }\n",
    "    for violation in listing['violations']:\n",
    "        if violation['impact'] == 'minor':\n",
    "            compiled['Impacts']['Minor'] += 1\n",
    "        if violation['impact'] == 'moderate':\n",
    "            compiled['Impacts']['Moderate'] += 1\n",
    "        if violation['impact'] == 'serious':\n",
    "            compiled['Impacts']['Serious'] += 1\n",
    "        if violation['impact'] == 'critical':\n",
    "            compiled['Impacts']['Critical'] += 1\n",
    "    summary_compiled.append(compiled)"
   ]
  },
  {
   "cell_type": "code",
   "execution_count": null,
   "id": "19bc14a3-5abe-4140-994a-a686c474a7e6",
   "metadata": {},
   "outputs": [],
   "source": [
    "summary_df = pd.DataFrame(summary_compiled)"
   ]
  },
  {
   "cell_type": "code",
   "execution_count": null,
   "id": "a9b54f32-d377-4c6c-9029-9d91a34e6718",
   "metadata": {},
   "outputs": [],
   "source": [
    "sorted = summary_df.sort_values('Total Violations')"
   ]
  },
  {
   "cell_type": "code",
   "execution_count": null,
   "id": "0aab1a2c-beb5-458d-bf36-c00aa33b640a",
   "metadata": {},
   "outputs": [],
   "source": [
    "sorted"
   ]
  },
  {
   "cell_type": "code",
   "execution_count": null,
   "id": "db97002b-e428-4ad0-88b7-dc32e7170a7e",
   "metadata": {},
   "outputs": [],
   "source": [
    "plt.figure(figsize=(12, 6))\n",
    "chart = sns.barplot(x=sorted['Title'], y=sorted['Total Violations'])\n",
    "chart.set_xticklabels(chart.get_xticklabels(), rotation=45, horizontalalignment='right')\n"
   ]
  },
  {
   "cell_type": "code",
   "execution_count": null,
   "id": "013b1ffa-5efa-4270-86d5-63596b6149c0",
   "metadata": {},
   "outputs": [],
   "source": []
  }
 ],
 "metadata": {
  "kernelspec": {
   "display_name": "Python 3 (ipykernel)",
   "language": "python",
   "name": "python3"
  },
  "language_info": {
   "codemirror_mode": {
    "name": "ipython",
    "version": 3
   },
   "file_extension": ".py",
   "mimetype": "text/x-python",
   "name": "python",
   "nbconvert_exporter": "python",
   "pygments_lexer": "ipython3",
   "version": "3.11.5"
  }
 },
 "nbformat": 4,
 "nbformat_minor": 5
}
